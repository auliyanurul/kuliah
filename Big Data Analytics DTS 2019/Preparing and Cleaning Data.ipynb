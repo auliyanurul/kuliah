{
 "cells": [
  {
   "cell_type": "markdown",
   "metadata": {},
   "source": [
    "# Preparing and Cleaning Data"
   ]
  },
  {
   "cell_type": "markdown",
   "metadata": {},
   "source": [
    "*Oleh: Rosihan Ari Yuana, S. Si, M. Kom*"
   ]
  },
  {
   "cell_type": "markdown",
   "metadata": {},
   "source": [
    "Diberikan dataset daftar transfer pemain bola termahal dunia dari musim 2000-2001 hingga 2018-2019."
   ]
  },
  {
   "cell_type": "markdown",
   "metadata": {},
   "source": [
    "## Preparing Data"
   ]
  },
  {
   "cell_type": "markdown",
   "metadata": {},
   "source": [
    "### Importing Data"
   ]
  },
  {
   "cell_type": "code",
   "execution_count": null,
   "metadata": {},
   "outputs": [],
   "source": [
    "import pandas as pd\n",
    "namaFile = \"d:football.csv\"\n",
    "data = pd.read_csv(namaFile)\n",
    "data.head()"
   ]
  },
  {
   "cell_type": "markdown",
   "metadata": {},
   "source": [
    "### Selecting Data"
   ]
  },
  {
   "cell_type": "markdown",
   "metadata": {},
   "source": [
    "Data hasil import menggunakan Pandas seperti di atas bertipe DataFrame. DataFrame merupakan tipe data dinamis yang tersusun atas baris dan kolom (seperti tabel). Angka 0, 1 dst yang ada di sebelah kiri merupakan indeks baris. Sedangkan bagian paling atas memiliki nama kolom (column names)."
   ]
  },
  {
   "cell_type": "code",
   "execution_count": null,
   "metadata": {},
   "outputs": [],
   "source": [
    "# mengakses data pada baris index tertentu\n",
    "data.loc[3]"
   ]
  },
  {
   "cell_type": "code",
   "execution_count": null,
   "metadata": {},
   "outputs": [],
   "source": [
    "# mengakses 5 data pertama pada kolom tertentu\n",
    "data['Name'][:5]"
   ]
  },
  {
   "cell_type": "code",
   "execution_count": null,
   "metadata": {},
   "outputs": [],
   "source": [
    "# memilih data dari beberapa kolom\n",
    "data = data.filter(items=['Name', 'Position', 'Age', 'Transfer_fee'])\n",
    "data.head()"
   ]
  },
  {
   "cell_type": "markdown",
   "metadata": {},
   "source": [
    "### Combining Data"
   ]
  },
  {
   "cell_type": "code",
   "execution_count": null,
   "metadata": {},
   "outputs": [],
   "source": [
    "ListUmur = []\n",
    "for umur in data['Age']:\n",
    "    if umur > 30:\n",
    "        ListUmur.append('Old')\n",
    "    else:\n",
    "        ListUmur.append('Young')\n",
    "data['Age Status'] = ListUmur\n",
    "data.head()"
   ]
  },
  {
   "cell_type": "markdown",
   "metadata": {},
   "source": [
    "### Transforming Data"
   ]
  },
  {
   "cell_type": "code",
   "execution_count": null,
   "metadata": {},
   "outputs": [],
   "source": [
    "# sebelum transformasi\n",
    "\n",
    "import matplotlib.pyplot as plt\n",
    "plt.hist(data['Age'], 20)\n",
    "plt.show()"
   ]
  },
  {
   "cell_type": "code",
   "execution_count": null,
   "metadata": {},
   "outputs": [],
   "source": [
    "# transforming data\n",
    "\n",
    "from sklearn import preprocessing\n",
    "import numpy as np\n",
    "\n",
    "age_array = np.array(data['Age'])\n",
    "normalized_age = preprocessing.normalize([age_array])\n",
    "data['Norm Age'] = normalized_age[0]\n",
    "data.head()"
   ]
  },
  {
   "cell_type": "code",
   "execution_count": null,
   "metadata": {},
   "outputs": [],
   "source": [
    "# setelah transformasi\n",
    "\n",
    "import matplotlib.pyplot as plt\n",
    "plt.hist(data['Norm Age'], 20)\n",
    "plt.show()"
   ]
  },
  {
   "cell_type": "markdown",
   "metadata": {},
   "source": [
    "## Cleaning Data"
   ]
  },
  {
   "cell_type": "markdown",
   "metadata": {},
   "source": [
    "### Finding NaN Value (Missing Value)"
   ]
  },
  {
   "cell_type": "code",
   "execution_count": null,
   "metadata": {},
   "outputs": [],
   "source": [
    "data[data['Transfer_fee'].isnull()]"
   ]
  },
  {
   "cell_type": "markdown",
   "metadata": {},
   "source": [
    "### Handling NaN Value (Missing Value)"
   ]
  },
  {
   "cell_type": "code",
   "execution_count": null,
   "metadata": {},
   "outputs": [],
   "source": [
    "# menghapus baris yang mengandung null\n",
    "data1 = data.dropna(axis=0, how='any')\n",
    "# cek data null\n",
    "data1[data1['Transfer_fee'].isnull()]"
   ]
  },
  {
   "cell_type": "code",
   "execution_count": null,
   "metadata": {},
   "outputs": [],
   "source": [
    "# mengganti data null pada 'Transfer_fee' dengan rata2nya\n",
    "data2 = data.fillna(data['Transfer_fee'].mean())\n",
    "# cek data null\n",
    "data2[data2['Transfer_fee'].isnull()]"
   ]
  },
  {
   "cell_type": "code",
   "execution_count": null,
   "metadata": {},
   "outputs": [],
   "source": [
    "# cek data pada baris ke 4539 yang tadinya null pada kolom Transfer_fee\n",
    "data2.loc[4539]"
   ]
  },
  {
   "cell_type": "markdown",
   "metadata": {},
   "source": [
    "### Identifying Outliers (Pencilan)"
   ]
  },
  {
   "cell_type": "code",
   "execution_count": null,
   "metadata": {},
   "outputs": [],
   "source": [
    "# mengidentifikasi outliers via scatter plot\n",
    "\n",
    "import matplotlib.pyplot as plt\n",
    "plt.scatter(data['Age'], data['Transfer_fee'])\n",
    "plt.xlabel('Age')\n",
    "plt.ylabel('Transfer Fee')\n",
    "plt.xlim(-1, 50)\n",
    "plt.ylim(-1e7, 2.5e8)\n",
    "plt.show()"
   ]
  },
  {
   "cell_type": "markdown",
   "metadata": {},
   "source": [
    "### Handling Outliers"
   ]
  },
  {
   "cell_type": "code",
   "execution_count": null,
   "metadata": {},
   "outputs": [],
   "source": [
    "# memilih data yang tidak mengandung outliers\n",
    "import numpy as np\n",
    "\n",
    "meanTransferFee = data['Transfer_fee'].mean()\n",
    "stdTransferFee = data['Transfer_fee'].std()\n",
    "meanAge = data['Age'].mean()\n",
    "stdAge = data['Age'].std()\n",
    "\n",
    "dataClean = data[(np.abs((data['Transfer_fee']-meanTransferFee)/stdTransferFee) <= 3) \n",
    "                 & (np.abs((data['Age']-meanAge)/stdAge) <= 3)]"
   ]
  },
  {
   "cell_type": "code",
   "execution_count": null,
   "metadata": {},
   "outputs": [],
   "source": [
    "# scatter plot setelah menghilangkan outliers\n",
    "\n",
    "import matplotlib.pyplot as plt\n",
    "plt.scatter(dataClean['Age'], dataClean['Transfer_fee'])\n",
    "plt.xlabel('Age')\n",
    "plt.ylabel('Transfer Fee')\n",
    "plt.xlim(-1, 50)\n",
    "plt.ylim(-1e7, 2.5e8)\n",
    "plt.show()"
   ]
  },
  {
   "cell_type": "markdown",
   "metadata": {},
   "source": [
    "## Latihan Project"
   ]
  },
  {
   "cell_type": "markdown",
   "metadata": {},
   "source": [
    "- Importlah file weight-height.csv\n",
    "- Pilihlah kolom Gender, Height (dalam inch), dan Weight (dalam pound)\n",
    "- Lakukan cleaning data dengan menghilangkan data null pada kedua kolom tersebut\n",
    "- Lakukan cleaning data terhadap outlier yang ada\n",
    "- Dari data hasil cleaning, buat kolom baru 'BBI' yang isinya merupakan berat badan idealnya\n",
    "\n",
    "**Rumus BBI:**\n",
    "- wanita: (tinggi badan - 100) - (15% x (tinggi badan - 100))\n",
    "- pria: (tinggi badan - 100) - (10% x (tinggi badan -100))\n",
    "\n",
    "Keterangan untuk hitung BBI:\n",
    "- Tinggi badan dalam cm (1 inch = 2.54 cm)\n",
    "- Berat badan dalam Kg (1 pound = 0.45 kg)"
   ]
  }
 ],
 "metadata": {
  "kernelspec": {
   "display_name": "Python 3",
   "language": "python",
   "name": "python3"
  },
  "language_info": {
   "codemirror_mode": {
    "name": "ipython",
    "version": 3
   },
   "file_extension": ".py",
   "mimetype": "text/x-python",
   "name": "python",
   "nbconvert_exporter": "python",
   "pygments_lexer": "ipython3",
   "version": "3.7.0"
  }
 },
 "nbformat": 4,
 "nbformat_minor": 2
}
