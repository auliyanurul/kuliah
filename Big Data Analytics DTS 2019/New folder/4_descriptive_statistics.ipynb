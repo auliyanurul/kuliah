{
 "cells": [
  {
   "cell_type": "markdown",
   "metadata": {},
   "source": [
    "# Descriptive Statistics Functions"
   ]
  },
  {
   "cell_type": "markdown",
   "metadata": {},
   "source": [
    "Statistik sendiri adalah bidang yang sangat luas dan tidak mungkin selesai dibahas dalam satu materi tutorial.\n",
    "\n",
    "Dalam bagian ini, kita akan bahas beberapa fungsi saja yang dimiliki Numpy yang bisa membantu kita untuk memahami data.\n",
    "Sebagai contoh, kita akan menggunakan data berikut:"
   ]
  },
  {
   "cell_type": "code",
   "execution_count": null,
   "metadata": {},
   "outputs": [],
   "source": [
    "import numpy as np\n",
    "\n",
    "\n",
    "# jumlah view\n",
    "view = [124, 320, 105, 108, 136,  98,  93, 130, 111, 103, 111, 107,  96,\n",
    "       113, 114, 126, 420, 104, 119,  98]\n",
    "\n",
    "# jumlah terbeli\n",
    "sold = [69, 79, 67, 64, 83, 66, 58, 81, 69, 60, 60, 66, 50, 67, 63, 78, 61,\n",
    "       63, 70, 60]\n"
   ]
  },
  {
   "cell_type": "markdown",
   "metadata": {},
   "source": [
    "## Minimum and Maximum"
   ]
  },
  {
   "cell_type": "code",
   "execution_count": null,
   "metadata": {},
   "outputs": [],
   "source": [
    "np.min(view)"
   ]
  },
  {
   "cell_type": "code",
   "execution_count": null,
   "metadata": {},
   "outputs": [],
   "source": [
    "np.max(view)"
   ]
  },
  {
   "cell_type": "markdown",
   "metadata": {},
   "source": [
    "## Mean"
   ]
  },
  {
   "cell_type": "code",
   "execution_count": null,
   "metadata": {},
   "outputs": [],
   "source": [
    "np.mean(view)"
   ]
  },
  {
   "cell_type": "markdown",
   "metadata": {},
   "source": [
    "## Median"
   ]
  },
  {
   "cell_type": "code",
   "execution_count": null,
   "metadata": {},
   "outputs": [],
   "source": [
    "np.median(view)"
   ]
  },
  {
   "cell_type": "markdown",
   "metadata": {},
   "source": [
    "## Standard Deviation"
   ]
  },
  {
   "cell_type": "code",
   "execution_count": null,
   "metadata": {},
   "outputs": [],
   "source": [
    "np.std(view)"
   ]
  },
  {
   "cell_type": "markdown",
   "metadata": {},
   "source": [
    "## Variance"
   ]
  },
  {
   "cell_type": "code",
   "execution_count": null,
   "metadata": {},
   "outputs": [],
   "source": [
    "np.var(view)"
   ]
  },
  {
   "cell_type": "markdown",
   "metadata": {},
   "source": [
    "## Quantile\n"
   ]
  },
  {
   "cell_type": "code",
   "execution_count": null,
   "metadata": {},
   "outputs": [],
   "source": [
    "np.percentile(view, 25)"
   ]
  },
  {
   "cell_type": "markdown",
   "metadata": {},
   "source": [
    "## Covariance"
   ]
  },
  {
   "cell_type": "code",
   "execution_count": null,
   "metadata": {},
   "outputs": [],
   "source": [
    "np.cov(view, sold)"
   ]
  },
  {
   "cell_type": "markdown",
   "metadata": {},
   "source": [
    "## Correlation"
   ]
  },
  {
   "cell_type": "code",
   "execution_count": null,
   "metadata": {},
   "outputs": [],
   "source": [
    "np.corrcoef(view, sold)"
   ]
  },
  {
   "cell_type": "markdown",
   "metadata": {},
   "source": [
    "## Correlation and Causation"
   ]
  },
  {
   "cell_type": "markdown",
   "metadata": {},
   "source": [
    "![Correlation vs Causation](https://i.stack.imgur.com/TWQaB.jpg)\n",
    "\n",
    "sumber: [https://www.nejm.org/doi/full/10.1056/NEJMon1211064](https://www.nejm.org/doi/full/10.1056/NEJMon1211064)"
   ]
  },
  {
   "cell_type": "markdown",
   "metadata": {},
   "source": [
    "**Sedikit tambahan tentang correlation**\n",
    "\n",
    "Mungkin gambar di atas sudah sangat sering kita temui, beserta dengan pertanyaan bahwa \"Correlation does not always mean causation\"\n",
    "\n",
    "Memang benar bahwa kita harus berhati-hati dalam menginterpretasikan antara korelasi dan kausalitas. Jika variabel `x` dan `y` memiliki nilai korelasi yang positif yang tinggi, hal tersebut bisa berarti beberapa hal:\n",
    "\n",
    "- `x` menyebabkan `y`\n",
    "- `y` menyebabkan `x`\n",
    "- `x` dan `y` sama - sama menyebabkan satu sama lain\n",
    "- ada faktor lain yang menyebabkan fenomena `x` dan `y` tersebut\n",
    "- Korelasi antar `x` dan `y` hanya kebetulan\n",
    "\n",
    "Salah satu cara untuk memastikan adanya hubungan kausalitas adalah dengan menjalankan [randomized trial](https://en.wikipedia.org/wiki/Randomized_experiment)"
   ]
  }
 ],
 "metadata": {
  "kernelspec": {
   "display_name": "Python 3",
   "language": "python",
   "name": "python3"
  },
  "language_info": {
   "codemirror_mode": {
    "name": "ipython",
    "version": 3
   },
   "file_extension": ".py",
   "mimetype": "text/x-python",
   "name": "python",
   "nbconvert_exporter": "python",
   "pygments_lexer": "ipython3",
   "version": "3.6.5"
  }
 },
 "nbformat": 4,
 "nbformat_minor": 2
}
