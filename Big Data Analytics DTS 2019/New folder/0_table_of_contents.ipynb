{
 "cells": [
  {
   "cell_type": "markdown",
   "metadata": {},
   "source": [
    "# Table of Contents\n",
    "\n",
    "\n",
    "1. Setup\n",
    "2. [Introduction to Python](2_introduction_to_python.ipynb) | [Case Study](2_exercise.ipynb)\n",
    "3. [Data Visualization](3_data_visualization.ipynb) | [Case Study](3_exercise.ipynb)\n",
    "4. [Vector and Matrix with Numpy](4_numpy.ipynb) | [Descriptive Statistics](4_descriptive_statistics.ipynb) | [Data Processing with Pandas](4_pandas.ipynb) | [Case Study](4_exercise.ipynb)"
   ]
  }
 ],
 "metadata": {
  "kernelspec": {
   "display_name": "Python 3",
   "language": "python",
   "name": "python3"
  },
  "language_info": {
   "codemirror_mode": {
    "name": "ipython",
    "version": 3
   },
   "file_extension": ".py",
   "mimetype": "text/x-python",
   "name": "python",
   "nbconvert_exporter": "python",
   "pygments_lexer": "ipython3",
   "version": "3.7.0"
  }
 },
 "nbformat": 4,
 "nbformat_minor": 2
}
