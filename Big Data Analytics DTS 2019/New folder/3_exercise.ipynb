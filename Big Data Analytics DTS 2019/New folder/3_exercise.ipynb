{
 "cells": [
  {
   "cell_type": "code",
   "execution_count": null,
   "metadata": {},
   "outputs": [],
   "source": [
    "import matplotlib.pyplot as plt"
   ]
  },
  {
   "cell_type": "markdown",
   "metadata": {},
   "source": [
    "# Case Study - Data Visualization"
   ]
  },
  {
   "cell_type": "markdown",
   "metadata": {},
   "source": [
    "**Let's get some real work done**\n",
    "\n",
    "\n",
    "Baru saja Anda telah menyelesaikan materi tutorial tentang Data Visualization.\n",
    "Sekarang saatnya anda memanfaatkannya untuk menyelesaikan tugas yang diberikan kepada anda.\n",
    "\n",
    "\n",
    "Anda masih bekerja bersama dengan tim bisnis analis.\n",
    "Head of Business Analyst meminta anda untuk menyajikan laporan perolehan revenue dan profit untuk tiap kategori produk selama satu minggu terakhir dalam bentuk grafik.\n",
    "\n",
    "Untuk dapat menyelesaikan tugas tersebut, pertama anda meminta akses database kepada orang system administrator.\n",
    "Setelah beberapa saat mengeksplorasi database, anda mendapatkan data seperti di bawah ini."
   ]
  },
  {
   "cell_type": "code",
   "execution_count": null,
   "metadata": {},
   "outputs": [],
   "source": [
    "# tabel product_categories\n",
    "# kolom pertama adalah kode kategori\n",
    "# kolom kedua adalah nama kategori\n",
    "product_categories = [\n",
    "    [\"002\", \"aksesoris\"],\n",
    "    [\"003\", \"blouse\"],\n",
    "    [\"004\", \"atasan\"],\n",
    "    [\"005\", \"bawahan\"],\n",
    "    [\"006\", \"sepatu\"],\n",
    "    [\"007\", \"tas\"],\n",
    "    [\"008\", \"kosmetik\"]\n",
    "]\n",
    "\n",
    "# tabel orders_products\n",
    "# kolom pertama adalah kode order\n",
    "# kolom kedua adalah kode produk\n",
    "# kolom ketiga adalah kode kategori\n",
    "# kolom keempat adalah harga barang\n",
    "orders_products = [\n",
    "    [  4564,     90,      \"007\", 195000],\n",
    "    [  4564,    376,      \"007\", 199000],\n",
    "    [  4572,    310,      \"006\", 180000],\n",
    "    [  4572,     84,      \"005\", 140000],\n",
    "    [  4990,    345,      \"004\", 140000],\n",
    "    [  4990,    127,      \"004\", 135000],\n",
    "    [  5238,    419,      \"003\", 125000],\n",
    "    [  5533,    167,      \"004\", 130000],\n",
    "    [  5596,    174,      \"003\", 120000],\n",
    "    [  5596,    430,      \"003\", 110000],\n",
    "    [  5732,    242,      \"005\", 130000],\n",
    "    [  5732,     68,      \"004\", 120000],\n",
    "    [  5822,    277,      \"003\", 140000],\n",
    "    [  5827,    117,      \"002\",  50000],\n",
    "    [  5968,    271,      \"003\", 115000],\n",
    "    [  6095,     75,      \"003\",  95000],\n",
    "    [  6217,    300,      \"005\", 125000],\n",
    "    [  6217,    489,      \"005\", 130000],\n",
    "    [  6341,    452,      \"005\", 155000],\n",
    "    [  6440,    139,      \"003\", 150000],\n",
    "    [  6440,    255,      \"003\", 130000],\n",
    "    [  6591,    474,      \"006\", 175000],\n",
    "    [  7030,    356,      \"003\", 100000],\n",
    "    [  7030,    291,      \"002\",  65000],\n",
    "    [  7101,     93,      \"007\", 205000],\n",
    "    [  7126,    496,      \"006\", 195000],\n",
    "    [  7126,     32,      \"006\", 200000],\n",
    "    [  7214,    342,      \"007\", 200000],\n",
    "    [  7214,    460,      \"007\", 210000],\n",
    "    [  7428,    231,      \"004\", 120000],\n",
    "    [  7428,    105,      \"004\", 135000]\n",
    "]"
   ]
  },
  {
   "cell_type": "markdown",
   "metadata": {},
   "source": [
    "Tugas anda berikutnya adalah menampilkan total revenue masing - masing kategori produk dengan menggunakan grafik batang.\n",
    "Dimana sumbu x adalah nama masing - masing kategori, dan sumbu y adalah revenue."
   ]
  },
  {
   "cell_type": "code",
   "execution_count": null,
   "metadata": {},
   "outputs": [],
   "source": [
    "# Tuliskan script anda di sini\n",
    "# hint: gunakan plt.bar untuk menampilkan grafik batang\n",
    "# contoh: http://benalexkeen.com/bar-charts-in-matplotlib/\n",
    "\n",
    "from collections import defaultdict\n",
    "import matplotlib.pyplot as plt\n",
    "\n"
   ]
  },
  {
   "cell_type": "markdown",
   "metadata": {},
   "source": [
    "Tampilkan juga informasi profit untuk masing - masing kategori dalam satu grafik yang sama dengan di atas.\n",
    "\n",
    "Diketahui harga kulakan sebagai berikut:\n",
    "- kategori blouse, atasan dan bawahan adalah 50% dari harga jual\n",
    "- kategori aksesoris adalah 60% dari harga jual\n",
    "- kategori sepatu dan tas adalah 45% dari harga jual"
   ]
  },
  {
   "cell_type": "code",
   "execution_count": null,
   "metadata": {},
   "outputs": [],
   "source": [
    "# Tuliskan script anda di sini\n",
    "# hint: gunakan stacked bar chart untuk menampilkan revenue dan profit dalam satu bar chart\n",
    "# contoh: https://matplotlib.org/examples/pylab_examples/bar_stacked.html"
   ]
  },
  {
   "cell_type": "markdown",
   "metadata": {},
   "source": [
    "**Great job**\n",
    "\n",
    "\n",
    "- Menurut pengamatan anda terhadap grafik di atas, kategori apa yang paling laris ?\n",
    "- Ada ide untuk menaikkan volume penjualan kategori yang tidak terlalu populer ? "
   ]
  }
 ],
 "metadata": {
  "kernelspec": {
   "display_name": "Python 3",
   "language": "python",
   "name": "python3"
  },
  "language_info": {
   "codemirror_mode": {
    "name": "ipython",
    "version": 3
   },
   "file_extension": ".py",
   "mimetype": "text/x-python",
   "name": "python",
   "nbconvert_exporter": "python",
   "pygments_lexer": "ipython3",
   "version": "3.7.0"
  }
 },
 "nbformat": 4,
 "nbformat_minor": 2
}
