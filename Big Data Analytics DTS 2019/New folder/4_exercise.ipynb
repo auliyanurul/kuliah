{
 "cells": [
  {
   "cell_type": "markdown",
   "metadata": {},
   "source": [
    "# Case Study - Collaborative Filtering"
   ]
  },
  {
   "cell_type": "markdown",
   "metadata": {},
   "source": [
    "Head of Product xyz.com datang kepada Anda dan memberitahu bahwa perusahaan ingin meningkatkan jumlah returning customer, yaitu jumlah pengunjung yang balik lagi setelah sebelumnya pernah berbelanja.\n",
    "Salah satu caranya adalah dengan merekomendasikan produk yang relevan melalui notifikasi email.\n",
    "Jika pelanggan tertarik dengan produk tersebut, maka akan ada kemungkinan untuk customer tersebut kembali lagi berbelanja.\n",
    "\n",
    "Dari percakapan singkat tersebut, satu hal yang langsung Anda pikirkan adalah membangun sebuah mesin rekomendasi berdasarkan aktivitas belanja sebelumnya.\n",
    "\n",
    "Anda kemudian mencari - cari referensi tentang sistem rekomendasi dan menemukan referensi tentang Collaborative Filtering.\n",
    "Salah satu metode yang sangat populer digunakan dalam membangun mesin rekomendasi.\n",
    "Bahkan telah dimanfaatkan oleh perusahaan terkenal seperti Amazon, Netflix, dan Twitter.\n",
    "\n",
    "Di sini kita akan mencoba mengimplementasikan versi sederhana dari Collaborative Filtering langkah demi langkah."
   ]
  },
  {
   "cell_type": "markdown",
   "metadata": {},
   "source": [
    "## Load Dataset\n",
    "\n",
    "Rekan kerja anda yang bekerja sebagai data engineer, memberikan anda data aktivitas pengunjung website sebagai berikut:\n",
    "\n",
    "(data tersimpan dalam file `events.csv`)"
   ]
  },
  {
   "cell_type": "code",
   "execution_count": null,
   "metadata": {},
   "outputs": [],
   "source": [
    "import pandas as pd\n",
    "\n",
    "\n",
    "data = pd.read_csv(\"events.csv\")\n",
    "data.head(10)"
   ]
  },
  {
   "cell_type": "markdown",
   "metadata": {},
   "source": [
    "Data yang diberikan memiliki 4 kolom dan lebih dari 100 ribu baris.\n",
    "\n",
    "- Kolom `date` menandakan kapan event tersebut terjadi\n",
    "- Kolom `visitorid` menandakan id pengunjung\n",
    "- Kolom `itemid` menandakan id produk\n",
    "- Kolom `event` menandakan jenis event yang terjadi (view, addtocart, transaction)\n",
    "\n",
    "Sebagai contoh, data di atas bisa dibaca sebagai berikut:\n",
    "\n",
    "- visitor dengan id `375734` melihat item dengan id `282298` pada tanggal `2015-05-03` jam `10:01`.\n",
    "- dst.\n",
    "\n",
    "Untuk saat ini Anda tidak akan terlalu mempermasalahkan kapan event tersebut terjadi, tapi lebih fokus kepada event apa yang terjadi.\n"
   ]
  },
  {
   "cell_type": "markdown",
   "metadata": {},
   "source": [
    "## Create m x n Matrix\n",
    "\n",
    "Langkah pertama yang Anda lakukan adalam membuat matrix ukuran `m x n`.\n",
    "Dimana `m` adalah jumlah visitor, dan `n` adalah jumlah produk / item."
   ]
  },
  {
   "cell_type": "code",
   "execution_count": null,
   "metadata": {},
   "outputs": [],
   "source": [
    "import numpy as np\n",
    "\n",
    "\n",
    "# cari jumlah user dan jumlah items\n",
    "n_users = data.visitorid.nunique()\n",
    "n_items = data.itemid.nunique()\n",
    "\n",
    "# buat matrix zero ukuran mxn\n",
    "matrix = np.zeros((n_users, n_items), np.int)"
   ]
  },
  {
   "cell_type": "markdown",
   "metadata": {},
   "source": [
    "Selanjutnya Anda harus mengisi matrix tersebut dengan pseudo rating berdasarkan event yang terjadi.\n",
    "Tidak ada aturan untuk ini, jadi Anda memulai dengan aturan yang sederhana.\n",
    "Yaitu:\n",
    "\n",
    "- view = 1\n",
    "- addtocart = 2\n",
    "- transaction = 3\n",
    "\n",
    "Anda juga melihat bahwa untuk satu user dan item yang sama, bisa memiliki 2 atau lebih event yang berbeda.\n",
    "Misalnya, `view` dan `addtocart`.\n",
    "\n",
    "Untuk menangani kasus seperti ini, Anda kembali menggunakan cara yang sederhana yaitu dengan hanya mengambil rating yang tertinggi saja.\n",
    "Dengan cara seperti ini, tentu saja ada efek sampingnya.\n",
    "Tapi cara ini cukup cepat diimplementasikan sebagai solusi awal."
   ]
  },
  {
   "cell_type": "code",
   "execution_count": null,
   "metadata": {},
   "outputs": [],
   "source": [
    "# dapatkan unique visitorid, dan unique itemid\n",
    "unique_visitorid = data.visitorid.sort_values().unique()\n",
    "unique_itemid = data.itemid.sort_values().unique()\n",
    "\n",
    "# buat kamus referensi\n",
    "# visitorid -> row id matrix\n",
    "# itemid -> column id matrix\n",
    "# dan event -> rating\n",
    "visitorid_index = dict(zip(unique_visitorid, range(len(unique_visitorid))))\n",
    "itemid_index = dict(zip(unique_itemid, range(len(unique_itemid))))\n",
    "rating_index = {\"view\": 1, \"addtocart\": 2, \"transaction\": 3}\n",
    "\n",
    "# isi matrix dengan preferensi rating\n",
    "for i, row in data.iterrows():\n",
    "    row_index = visitorid_index[row.visitorid]\n",
    "    column_index = itemid_index[row.itemid]\n",
    "    matrix[row_index, column_index] = max(matrix[row_index, column_index], rating_index[row.event])\n",
    "\n",
    "print(matrix)"
   ]
  },
  {
   "cell_type": "markdown",
   "metadata": {},
   "source": [
    "## Quiz\n",
    "\n",
    "Bagaimana Anda menginterpretasikan matrix `matrix` tersebut ?"
   ]
  },
  {
   "cell_type": "code",
   "execution_count": null,
   "metadata": {},
   "outputs": [],
   "source": []
  },
  {
   "cell_type": "markdown",
   "metadata": {},
   "source": [
    "## User-based Collaborative Filtering\n",
    "\n",
    "Dalam kategori user-based ini, biasanya terdiri dari 2 langkah utama, yaitu:\n",
    "\n",
    "Misal user `A` yang akan diberikan rekomendasi,\n",
    "\n",
    "1. Cari user lain (misal `B`) yang memiliki ketertarikan yang sama (kemiripan dari segi rating)\n",
    "2. Rekomendasikan item yang user `B` sukai tapi belum dirating oleh user `A`\n",
    "\n",
    "Setiap user direpresentasikan oleh vektor baris pada matrik `matrix`.\n",
    "Anda bisa mencari lokasi baris untuk setiap `visitorid` dengan menggunakan kamus `visitorid_index`.\n",
    "\n",
    "Sedangkan untuk mengukur kemiripan antar 2 vektor user, kita membutuhkan suatu metric.\n",
    "Dalam kasus ini Anda memutuskan untuk menggunakan Cosine Similarity.\n",
    "Cosine similarity mengukur sudut antar 2 vektor user.\n",
    "Nilainya selalu dalam rentang [-1, 1].\n",
    "Nilai 1 jika kedua vektor mempunyai arah yang sama (cos 0), dan nilai -1 jika arahnya berlawanan (cos 180).\n",
    "\n",
    "$$\n",
    "{\\displaystyle {\\text{similarity}}=\\cos(\\theta )={\\mathbf {A} \\cdot \\mathbf {B}  \\over \\|\\mathbf {A} \\|\\|\\mathbf {B} \\|}={\\frac {\\sum \\limits _{i=1}^{n}{A_{i}B_{i}}}{{\\sqrt {\\sum \\limits _{i=1}^{n}{A_{i}^{2}}}}{\\sqrt {\\sum \\limits _{i=1}^{n}{B_{i}^{2}}}}}},}\n",
    "$$\n"
   ]
  },
  {
   "cell_type": "code",
   "execution_count": null,
   "metadata": {},
   "outputs": [],
   "source": [
    "def cosine_similarity(vector1, vector2):\n",
    "    return np.dot(vector1, vector2) / (np.linalg.norm(vector1) * np.linalg.norm(vector2))"
   ]
  },
  {
   "cell_type": "markdown",
   "metadata": {},
   "source": [
    "Berikutnya tugas anda adalah sebagai berikut:\n",
    "\n",
    "**1) Menghitung nilai similarity untuk setiap kombinasi 2 user, misal user1 dan user2, user1 dan user 3, dst**\n"
   ]
  },
  {
   "cell_type": "code",
   "execution_count": null,
   "metadata": {
    "scrolled": false
   },
   "outputs": [],
   "source": [
    "# tuliskan script anda di sini\n",
    "\n",
    "# 1. buat matrix user_similarity ukuran mxm, m = jumlah unique user\n",
    "# dengan nilai awal 0\n",
    "\n",
    "# 2. isi matrix user_similarity dengan nilai cosine similarity antar vektor user\n",
    "# untuk setiap user ke-i dan user ke-j, hitung cosine similarity vektor_i dan vektor_j\n"
   ]
  },
  {
   "cell_type": "markdown",
   "metadata": {},
   "source": [
    "**2) Cari user lain yang memiliki preferensi item yang sama dengan user dengan visitorid = 1936**"
   ]
  },
  {
   "cell_type": "code",
   "execution_count": null,
   "metadata": {
    "scrolled": false
   },
   "outputs": [],
   "source": [
    "# tuliskan script anda di sini\n",
    "\n",
    "# 1. cari vektor user dengan visitorid = 1936\n",
    "# vektor user adalah vektor baris pada matrix user_similarity\n",
    "\n",
    "# 2. tentukan variabel threshold untuk kontrol tingkat kemiripan\n",
    "# misalkan kemiripan > threshold, threshold = 0.5\n",
    "# semakin besar makan akan semakin mirip, tetapi jumlah user yang didapat akan semakin sedikit\n",
    "\n",
    "# 3. dari vektor user pada langkah 1\n",
    "# cari index kolom yang memiliki nilai > threshold\n",
    "# gunakan np.argwhere"
   ]
  },
  {
   "cell_type": "markdown",
   "metadata": {},
   "source": [
    "**3) Tampilkan item2 yang direkomendasikan**"
   ]
  },
  {
   "cell_type": "code",
   "execution_count": null,
   "metadata": {
    "scrolled": false
   },
   "outputs": [],
   "source": [
    "# tuliskan script anda di sini\n",
    "\n",
    "# 1. tentukan variabel threshold untuk kontrol item yang akan direkomendasikan\n",
    "# misalkan preferensi > threshold, threshold = 0\n",
    "# artinya seluruh item yang setidaknya pernah di-view\n",
    "\n",
    "# 2. dari similar user yg didapat pada langkah sebelumnya\n",
    "# ambil semua item2 yang berinteraksi dengan user tersebut (setidaknya pernah di-view)\n",
    "# gunakan kombinasi np.argwhere, diikuti np.unique"
   ]
  },
  {
   "cell_type": "markdown",
   "metadata": {},
   "source": [
    "## Item-based Collaborative Filtering\n",
    "\n",
    "Alternative selain user-based adalah item-based, dimana nilai kemiripan (similarity) akan dihitung langsung dari vektor item (vektor kolom dari `matrix`).\n",
    "\n",
    "Salah satu contoh implementasi dari metode item-based adalah mesin rekomendasi yang kita kenal sebagai \"Customer who bought X, also bought Y\".\n",
    "Ini didasarkan pada ide metode item-based bahwa, jika banyak user yang memberikan rating pada item X dan Y, maka kemungkinan kedua item tersebut mirip.\n",
    "\n",
    "Langkah utamanya adalah sebagai berikut:\n",
    "\n",
    "Misal user `A` adalah user yang akan diberikan rekomendasi,\n",
    "\n",
    "1. Untuk setiap item yang disukai user `A`, cari item lain yang mirip dengan item tersebut\n",
    "2. Rekomendasikan item lain yang belum dirating oleh `A`"
   ]
  },
  {
   "cell_type": "markdown",
   "metadata": {},
   "source": [
    "Tugas anda:"
   ]
  },
  {
   "cell_type": "markdown",
   "metadata": {},
   "source": [
    "**1) Menghitung nilai similarity untuk setiap kombinasi 2 items, misal item1 dan item2, item1 dan item3, dst**"
   ]
  },
  {
   "cell_type": "code",
   "execution_count": null,
   "metadata": {},
   "outputs": [],
   "source": [
    "# tuliskan script anda di sini\n"
   ]
  },
  {
   "cell_type": "markdown",
   "metadata": {},
   "source": [
    "**2) Untuk setiap item yang dirating oleh user dengan visitorid 1936, cari item lain yang mirip dengan item tersebut**"
   ]
  },
  {
   "cell_type": "code",
   "execution_count": null,
   "metadata": {},
   "outputs": [],
   "source": [
    "# tuliskan script anda di sini"
   ]
  },
  {
   "cell_type": "markdown",
   "metadata": {},
   "source": [
    "**3) Tampilkan item2 yang direkomendasikan**"
   ]
  },
  {
   "cell_type": "code",
   "execution_count": null,
   "metadata": {},
   "outputs": [],
   "source": [
    "# tuliskan script anda di sini"
   ]
  },
  {
   "cell_type": "markdown",
   "metadata": {},
   "source": [
    "## Quiz\n",
    "- Menurut Anda apa saja kelemahan dari metode yang sudah Anda implementasikan di atas? baik yang user-based maupun item-based\n",
    "- Ada ide untuk mengatasinya masalah yang Anda temukan tersebut?"
   ]
  },
  {
   "cell_type": "code",
   "execution_count": null,
   "metadata": {},
   "outputs": [],
   "source": []
  },
  {
   "cell_type": "markdown",
   "metadata": {},
   "source": [
    "## References\n",
    "\n",
    "- Data yang dipakai merupakan subset dari data events yang diperoleh dari laman Kaggle Dataset. [Link](https://www.kaggle.com/retailrocket/ecommerce-dataset)\n",
    "- Dataset lain juga bisa diperoleh di sini [Link](https://gist.github.com/entaroadun/1653794)"
   ]
  }
 ],
 "metadata": {
  "kernelspec": {
   "display_name": "Python 3",
   "language": "python",
   "name": "python3"
  },
  "language_info": {
   "codemirror_mode": {
    "name": "ipython",
    "version": 3
   },
   "file_extension": ".py",
   "mimetype": "text/x-python",
   "name": "python",
   "nbconvert_exporter": "python",
   "pygments_lexer": "ipython3",
   "version": "3.6.5"
  }
 },
 "nbformat": 4,
 "nbformat_minor": 2
}
