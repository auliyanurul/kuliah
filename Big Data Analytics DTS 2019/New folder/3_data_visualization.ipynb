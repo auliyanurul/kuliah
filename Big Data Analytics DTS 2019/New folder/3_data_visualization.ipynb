{
 "cells": [
  {
   "cell_type": "code",
   "execution_count": null,
   "metadata": {},
   "outputs": [],
   "source": [
    "%matplotlib inline"
   ]
  },
  {
   "cell_type": "markdown",
   "metadata": {
    "collapsed": true
   },
   "source": [
    "# Data Visualization"
   ]
  },
  {
   "cell_type": "markdown",
   "metadata": {},
   "source": [
    "Ini adalah hari kedua anda bekerja di `xyz.com` sebagai data scientist.\n",
    "Setelah training Python pada hari pertama, agenda hari ini adalah tentang Data Visualization.\n",
    "\n",
    "Data visualization termasuk juga sebagai bagian fundamental dalam bidang data science.\n",
    "Ada beberapa kegunaan visualisasi data, diantaranya adalah:\n",
    "\n",
    "- eksplorasi data\n",
    "- komunikasi data\n",
    "\n",
    "Di bawah ini kita akan belajar membuat beberapa jenis visualisasi dengan bantuan sebuah library bernama `matplotlib`.\n",
    "Library ini cukup populer di kalangan Python programmer, karena memiliki banyak pilihan fitur dan tipe grafik.\n",
    "\n",
    "Website matplotlib dapat dikunjungi [di sini](https://matplotlib.org/).\n",
    "Beberapa contoh visualisasi yang dibuat menggunakan matplotlib bisa dilihat  [di halaman examples](https://matplotlib.org/gallery/index.html).\n"
   ]
  },
  {
   "cell_type": "code",
   "execution_count": null,
   "metadata": {},
   "outputs": [],
   "source": [
    "# pertama kita perlu mengimport library matplotlib\n",
    "# kita hanya akan menggunakan modul pyplot\n",
    "# kita beri alias plt\n",
    "import matplotlib.pyplot as plt"
   ]
  },
  {
   "cell_type": "markdown",
   "metadata": {},
   "source": [
    "## Line Plot"
   ]
  },
  {
   "cell_type": "markdown",
   "metadata": {},
   "source": [
    "Line plot sangat cocok untuk memvisualisasikan informasi trend dalam data.\n",
    "Sebagai contoh, kita memiliki data jumlah penjualan seperti di bawah ini:"
   ]
  },
  {
   "cell_type": "code",
   "execution_count": null,
   "metadata": {},
   "outputs": [],
   "source": [
    "months = [1, 2, 3, 4, 5, 6, 7, 8, 9, 10, 11, 12]\n",
    "average_basket_size = [199000, 198200, 199800, 220050, 232100, 221000,\n",
    "                       222800, 229000, 230000, 231000, 232700, 235500]"
   ]
  },
  {
   "cell_type": "markdown",
   "metadata": {},
   "source": [
    "Selanjutnya kita dapat memvisualisasikan data tersebut di dalam sebuah grafik 2 dimensi.\n",
    "Kita perlu mendefinisikan kolom mana yang akan menjadi sumbu-x dan sumbu-y"
   ]
  },
  {
   "cell_type": "code",
   "execution_count": null,
   "metadata": {},
   "outputs": [],
   "source": [
    "plt.plot(months, average_basket_size, marker='x', color=\"orange\", linewidth=7)\n",
    "# plt.plot(months, months, marker='x', color=\"blue\", linewidth=7)\n",
    "\n",
    "# tambahkan judul\n",
    "plt.title(\"Average Basket Size Tahun 2017\")\n",
    "\n",
    "# tambahkan informasi sumbu x dan y\n",
    "plt.xlabel(\"Bulan\")\n",
    "plt.ylabel(\"Average Basket Size\");\n",
    "\n",
    "# tampilkan plot\n",
    "plt.show()"
   ]
  },
  {
   "cell_type": "code",
   "execution_count": null,
   "metadata": {},
   "outputs": [],
   "source": [
    "# plt."
   ]
  },
  {
   "cell_type": "markdown",
   "metadata": {},
   "source": [
    "## Scatter Plot"
   ]
  },
  {
   "cell_type": "markdown",
   "metadata": {},
   "source": [
    "Scatter plot dapat digunakan untuk menampilkan individual data point.\n",
    "Selain itu, scatter plot juga merupakan pilihan yang tepat untuk menampilkan relasi antara 2 variabel.\n",
    "\n",
    "Di bawah ini kita memiliki data produk berupa harga dan jumlah barang yang telah terbeli."
   ]
  },
  {
   "cell_type": "code",
   "execution_count": null,
   "metadata": {},
   "outputs": [],
   "source": [
    "price = [210000, 110000, 235000, 80000, 225000, 220000, 120000, 135000,\n",
    "         200000, 105000, 75000, 175000, 240000, 115000, 245000, 170000,\n",
    "         230000, 130000, 90000, 180000, 155000, 85000, 215000, 185000,\n",
    "         165000, 160000, 125000, 195000, 100000, 205000, 95000, 145000,\n",
    "         150000, 140000, 190000]\n",
    "num_sold = [76, 131, 53, 149, 77, 72, 140, 121, 84, 127, 168, 112, 50,\n",
    "            120, 38, 102, 53, 95, 124, 113, 89, 126, 40, 98, 106, 88,\n",
    "            124, 54, 194, 107, 156, 119, 93, 111, 74]"
   ]
  },
  {
   "cell_type": "code",
   "execution_count": null,
   "metadata": {
    "scrolled": true
   },
   "outputs": [],
   "source": [
    "plt.scatter(price, num_sold, color='black', marker=\"x\")\n",
    "\n",
    "# tambahkan judul\n",
    "plt.title(\"Harga vs Total Penjualan\")\n",
    "\n",
    "# tambahkan informasi sumbu x dan y\n",
    "plt.xlabel(\"Harga\")\n",
    "plt.ylabel(\"Jumlah Penjualan\");\n",
    "\n",
    "# tampilkan plot\n",
    "plt.show()"
   ]
  },
  {
   "cell_type": "markdown",
   "metadata": {},
   "source": [
    "## Histogram"
   ]
  },
  {
   "cell_type": "markdown",
   "metadata": {},
   "source": [
    "Histogram menggambarkan frekuensi kemunculan data.\n",
    "Sangat cocok untuk menggambarkan distribusi data.\n",
    "\n",
    "\n",
    "Sebagai contoh kita memiliki data sekumpulan nilai sebagai berikut, dan kita akan melihat distribusi data nilai tersebut."
   ]
  },
  {
   "cell_type": "code",
   "execution_count": null,
   "metadata": {},
   "outputs": [],
   "source": [
    "data = [424, 335, 298, 313, 346, 357, 354, 317, 500, 360, 369, 343, 384,\n",
    "       410, 374, 326, 357, 263, 397, 306, 338, 321, 237, 305, 264, 331,\n",
    "       358, 200, 388, 323, 314, 284, 277, 335, 393, 230, 318, 397, 254,\n",
    "       312, 335, 243, 310, 303, 349, 391, 352, 413, 316, 336, 255, 329,\n",
    "       423, 456, 322, 321, 343, 297, 354, 230, 321, 277, 302, 385, 262,\n",
    "       379, 311, 352, 285, 295, 318, 308, 317, 219, 331, 399, 349, 302,\n",
    "       256, 389, 364, 390, 371, 392, 349, 339, 351, 366, 336, 307, 341,\n",
    "       304, 348, 365, 356, 364, 346, 399, 385, 313]"
   ]
  },
  {
   "cell_type": "code",
   "execution_count": null,
   "metadata": {},
   "outputs": [],
   "source": [
    "plt.hist(data, bins=20)\n",
    "\n",
    "# tambahkan judul\n",
    "plt.title(\"Histogram Berat Produk\")\n",
    "\n",
    "# tambahkan informasi sumbu x dan y\n",
    "plt.xlabel(\"Berat produk (gram)\")\n",
    "plt.ylabel(\"Frekuensi\");\n",
    "\n",
    "# tampilkan plot\n",
    "plt.show()"
   ]
  },
  {
   "cell_type": "markdown",
   "metadata": {},
   "source": [
    "## External Resources"
   ]
  },
  {
   "cell_type": "markdown",
   "metadata": {},
   "source": [
    "- [matplotlib](http://matplotlib.org/)"
   ]
  }
 ],
 "metadata": {
  "kernelspec": {
   "display_name": "Python 3",
   "language": "python",
   "name": "python3"
  },
  "language_info": {
   "codemirror_mode": {
    "name": "ipython",
    "version": 3
   },
   "file_extension": ".py",
   "mimetype": "text/x-python",
   "name": "python",
   "nbconvert_exporter": "python",
   "pygments_lexer": "ipython3",
   "version": "3.7.0"
  }
 },
 "nbformat": 4,
 "nbformat_minor": 2
}
