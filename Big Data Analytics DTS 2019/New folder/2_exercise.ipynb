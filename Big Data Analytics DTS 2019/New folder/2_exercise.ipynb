{
 "cells": [
  {
   "cell_type": "markdown",
   "metadata": {},
   "source": [
    "# Case Study - Customer Point Rewards"
   ]
  },
  {
   "cell_type": "markdown",
   "metadata": {},
   "source": [
    "## Studi Kasus"
   ]
  },
  {
   "cell_type": "markdown",
   "metadata": {},
   "source": [
    "Selamat! Anda telah diterima bekerja sebagai data scientist di sebuah toko online `xyz.com` yang menjual produk rumah tangga mulai dari fashion, alat kebersihan, perabot, hingga furnitur.\n",
    "\n",
    "Ini adalah hari pertama anda, dan anda telah menyelesaikan training Python.\n",
    "Sebagai tugas pertama anda, VP of Data `xyz.com` meminta anda untuk membantu tim marketing.\n",
    "\n",
    "Dalam rangka meningkatkan jumlah pembeli yang bertransaksi online, tim marketing mencoba melakukan eksperimen dengan memberikan bonus poin kepada pembeli berdasarkan total transaksi yang mereka lakukan.\n",
    "Poin ini kemudian bisa ditukarkan dengan hadiah berupa barang atau uang tunai, setelah mencapai nilai tertentu."
   ]
  },
  {
   "cell_type": "markdown",
   "metadata": {},
   "source": [
    "**Berikut adalah aturan main pemberian bonus poin kepada pembeli**\n",
    "\n",
    "Setiap transaksi yang bernilai di atas 100.000 rupiah, akan mendapatkan 1 poin dan berlaku kelipatan.\n",
    "Sedangkan transaksi di bawah 100.000 rupiah tidak akan mendapatkan poin.\n",
    "\n",
    "Contoh:\n",
    "\n",
    "- Tranaksi senilai 75.000 rupiah tidak akan mendapatkan poin.\n",
    "- Transaksi senilai 150.000 rupiah akan mendapatkan 1 poin.\n",
    "- Transaksi senilai 290.000 rupiah akan mendapatkan 2 poin.\n",
    "dan seterusnya."
   ]
  },
  {
   "cell_type": "markdown",
   "metadata": {},
   "source": [
    "**Tugas anda sederhana, anda diminta untuk membuat sebuah fungsi yang bisa menghitung berapa jumlah poin yang harus diberikan kepada pembeli, jika diketahui nilai transaksi yang dilakukan**\n",
    "\n",
    "Anda kemudian diberikan data transaksi di bawah ini.\n",
    "Data transaksi disimpan dalam bentuk list dua dimensi (list of lists).\n",
    "\n",
    "Kita sebut saja ini sebagai tabel transaksi pembelian.\n",
    "\n",
    "- Setiap baris merepresentasikan satu transaksi oleh satu pembeli.\n",
    "- Kolom pertama merepresentasikan ID transaksi.\n",
    "- Kolom ke-2 merepresentasikan nilai transaksi.\n",
    "- Kolom ke-3 merepresentasikan jumlah barang yang dibeli.\n",
    "- Sedangkan kolom ke-4 merepresentasikan jumlah poin yang akan diberikan untuk transaksi tersebut.\n",
    "\n",
    "Jumlah poin untuk semua transaksi pada awalnya masih bernilai 0 karena belum dihitung."
   ]
  },
  {
   "cell_type": "code",
   "execution_count": 5,
   "metadata": {},
   "outputs": [],
   "source": [
    "transactions = [\n",
    "    [0, 282000, 3, 0],\n",
    "    [1, 125000, 1, 0],\n",
    "    [2, 374000, 2, 0],\n",
    "    [3, 156000, 1, 0],\n",
    "    [4, 174000, 2, 0],\n",
    "    [5, 131000, 1, 0],\n",
    "    [6, 178000, 3, 0],\n",
    "    [7, 119000, 1, 0],\n",
    "    [8, 117000, 1, 0],\n",
    "    [9, 286000, 2, 0],\n",
    "    [10, 335000, 2, 0],\n",
    "    [11, 295000, 3, 0],\n",
    "    [12, 194000, 3, 0],\n",
    "    [13, 278000, 1, 0],\n",
    "    [14, 316000, 2, 0],\n",
    "    [15, 120000, 1, 0],\n",
    "    [16, 171000, 2, 0],\n",
    "    [17, 358000, 1, 0],\n",
    "    [18, 183000, 1, 0],\n",
    "    [19, 78000, 1, 0]]"
   ]
  },
  {
   "cell_type": "markdown",
   "metadata": {},
   "source": [
    "Lengkapilah script di bawah ini untuk menghitung poin di masing - masing transaksi."
   ]
  },
  {
   "cell_type": "code",
   "execution_count": 6,
   "metadata": {},
   "outputs": [
    {
     "data": {
      "text/plain": [
       "[[0, 282000, 3, 2],\n",
       " [1, 125000, 1, 1],\n",
       " [2, 374000, 2, 3],\n",
       " [3, 156000, 1, 1],\n",
       " [4, 174000, 2, 1],\n",
       " [5, 131000, 1, 1],\n",
       " [6, 178000, 3, 1],\n",
       " [7, 119000, 1, 1],\n",
       " [8, 117000, 1, 1],\n",
       " [9, 286000, 2, 2],\n",
       " [10, 335000, 2, 3],\n",
       " [11, 295000, 3, 2],\n",
       " [12, 194000, 3, 1],\n",
       " [13, 278000, 1, 2],\n",
       " [14, 316000, 2, 3],\n",
       " [15, 120000, 1, 1],\n",
       " [16, 171000, 2, 1],\n",
       " [17, 358000, 1, 3],\n",
       " [18, 183000, 1, 1],\n",
       " [19, 78000, 1, 0]]"
      ]
     },
     "metadata": {},
     "output_type": "display_data"
    }
   ],
   "source": [
    "# looping untuk setiap transaksi t\n",
    "# di tabel transactions\n",
    "for t in transactions:\n",
    "    # lakukan perhitungan di sini\n",
    "    # hint: t[0] untuk mengakses kolom pertama\n",
    "    point = t[1] // 100000\n",
    "    t[3] = point\n",
    "    #pass\n",
    "\n",
    "display(transactions)"
   ]
  },
  {
   "cell_type": "markdown",
   "metadata": {},
   "source": [
    "Good job!!\n",
    "Anda telah menyelesaikan tugas pertama anda.\n",
    "\n",
    "Setelah tim marketing melakukan evaluasi, mereka melihat bahwa skema poin ini masih bisa ditingkatkan untuk menarik lebih banyak pembeli. Head of Marketing `xyz.com` kemudian memutuskan untuk memberikan ekstra insentif kepada pembeli sebanyak 2x poin (2 x poin dengan aturan sebelumnya) jika mereka membeli minimal 3 produk.\n",
    "\n",
    "Untuk itu, anda perlu memodifikasi script yang sudah anda tulis sebelumnya.\n",
    "Perhitungan poin kini tidak berdasar hanya dari nilai transaksi, tetapi juga jumlah barang yang dibeli."
   ]
  },
  {
   "cell_type": "code",
   "execution_count": 7,
   "metadata": {},
   "outputs": [
    {
     "data": {
      "text/plain": [
       "[[0, 282000, 3, 4],\n",
       " [1, 125000, 1, 1],\n",
       " [2, 374000, 2, 3],\n",
       " [3, 156000, 1, 1],\n",
       " [4, 174000, 2, 1],\n",
       " [5, 131000, 1, 1],\n",
       " [6, 178000, 3, 2],\n",
       " [7, 119000, 1, 1],\n",
       " [8, 117000, 1, 1],\n",
       " [9, 286000, 2, 2],\n",
       " [10, 335000, 2, 3],\n",
       " [11, 295000, 3, 4],\n",
       " [12, 194000, 3, 2],\n",
       " [13, 278000, 1, 2],\n",
       " [14, 316000, 2, 3],\n",
       " [15, 120000, 1, 1],\n",
       " [16, 171000, 2, 1],\n",
       " [17, 358000, 1, 3],\n",
       " [18, 183000, 1, 1],\n",
       " [19, 78000, 1, 0]]"
      ]
     },
     "metadata": {},
     "output_type": "display_data"
    }
   ],
   "source": [
    "for row in transactions:\n",
    "    \n",
    "    if row[2] >= 3:\n",
    "        row[3] = 2 * row[3]\n",
    "    \n",
    "    pass\n",
    "        \n",
    "\n",
    "display(transactions)"
   ]
  },
  {
   "cell_type": "markdown",
   "metadata": {},
   "source": [
    "Great job!!\n",
    "Tim marketing senang dengan pekerjaan Anda karena kelihatannya proyeknya sukses.\n",
    "Program ini akan diuji coba selama satu bulan dan akan dilihat dampaknya terhadap perusahaan.\n"
   ]
  },
  {
   "cell_type": "markdown",
   "metadata": {},
   "source": [
    "Sambil menunggu eksperimen tersebut berjalan, Anda dihubungi tim bisnis analis untuk membantu menyusun laporan yang akan dipresentasikan kepada CEO perusahaan.\n",
    "\n",
    "Anda dimintai tolong untuk menyajikan data sebagai berikut:"
   ]
  },
  {
   "cell_type": "markdown",
   "metadata": {},
   "source": [
    "1) Data transaksi terurut mulai dari nilai tertinggi hingga terendah"
   ]
  },
  {
   "cell_type": "code",
   "execution_count": 10,
   "metadata": {},
   "outputs": [
    {
     "data": {
      "text/plain": [
       "[[2, 374000, 2, 3],\n",
       " [17, 358000, 1, 3],\n",
       " [10, 335000, 2, 3],\n",
       " [14, 316000, 2, 3],\n",
       " [11, 295000, 3, 4],\n",
       " [9, 286000, 2, 2],\n",
       " [0, 282000, 3, 4],\n",
       " [13, 278000, 1, 2],\n",
       " [12, 194000, 3, 2],\n",
       " [18, 183000, 1, 1],\n",
       " [6, 178000, 3, 2],\n",
       " [4, 174000, 2, 1],\n",
       " [16, 171000, 2, 1],\n",
       " [3, 156000, 1, 1],\n",
       " [5, 131000, 1, 1],\n",
       " [1, 125000, 1, 1],\n",
       " [15, 120000, 1, 1],\n",
       " [7, 119000, 1, 1],\n",
       " [8, 117000, 1, 1],\n",
       " [19, 78000, 1, 0]]"
      ]
     },
     "metadata": {},
     "output_type": "display_data"
    }
   ],
   "source": [
    "# tuliskan script anda di sini\n",
    "def sortTransac(val): \n",
    "    return val[1]\n",
    "\n",
    "transactions.sort(key = sortTransac, reverse = True) \n",
    "display(transactions)"
   ]
  },
  {
   "cell_type": "markdown",
   "metadata": {},
   "source": [
    "2) Rata - rata, median, dan standar deviasi dari seluruh nilai transaksi."
   ]
  },
  {
   "cell_type": "code",
   "execution_count": null,
   "metadata": {},
   "outputs": [],
   "source": [
    "# tuliskan script anda di sini"
   ]
  },
  {
   "cell_type": "markdown",
   "metadata": {},
   "source": [
    "3) Keuntungan per-transaksi, dan total keuntungan\n",
    "\n",
    "Diketahui harga kulakan untuk tiap produk kurang lebih 50% dari harga jual kembali produk tersebut."
   ]
  },
  {
   "cell_type": "code",
   "execution_count": null,
   "metadata": {},
   "outputs": [],
   "source": [
    "# tuliskan script anda di sini"
   ]
  },
  {
   "cell_type": "markdown",
   "metadata": {},
   "source": [
    "4) Average Basket items: Rata - rata jumlah produk yang dibeli per-transaksi.\n"
   ]
  },
  {
   "cell_type": "code",
   "execution_count": null,
   "metadata": {},
   "outputs": [],
   "source": [
    "# tuliskan script anda di sini"
   ]
  },
  {
   "cell_type": "markdown",
   "metadata": {},
   "source": [
    "5) Total nilai poin yang telah diberikan kepada pelanggan, jika 1 poin bernilai 5000 rupiah. Dan total keuntungan bersih setelah dikurangi nilai poin tersebut."
   ]
  },
  {
   "cell_type": "code",
   "execution_count": null,
   "metadata": {},
   "outputs": [],
   "source": [
    "# tuliskan script anda di sini"
   ]
  }
 ],
 "metadata": {
  "kernelspec": {
   "display_name": "Python 3",
   "language": "python",
   "name": "python3"
  },
  "language_info": {
   "codemirror_mode": {
    "name": "ipython",
    "version": 3
   },
   "file_extension": ".py",
   "mimetype": "text/x-python",
   "name": "python",
   "nbconvert_exporter": "python",
   "pygments_lexer": "ipython3",
   "version": "3.7.0"
  }
 },
 "nbformat": 4,
 "nbformat_minor": 2
}
