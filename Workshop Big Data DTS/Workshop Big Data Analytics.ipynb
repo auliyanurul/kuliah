{
 "cells": [
  {
   "cell_type": "markdown",
   "metadata": {},
   "source": [
    "# Workshop Big Data Analytics 05/07/2019"
   ]
  },
  {
   "cell_type": "markdown",
   "metadata": {},
   "source": [
    "##### Oleh: Rosihan Ari Yuana"
   ]
  },
  {
   "cell_type": "markdown",
   "metadata": {},
   "source": [
    "Scope pembahasan pada workshop ini adalah sebagai berikut:\n",
    "\n",
    "<ul>\n",
    "    <li>Cara Menjalankan Python (Jupyter Notebook di Cloud)</li>\n",
    "    <li>Operasi Aritmatika di Python</li>\n",
    "    <li>Function di Python</li>\n",
    "    <li>Tipe Data di Python</li>\n",
    "    <li>Struktur Kontrol</li>\n",
    "    <li>Import/Export</li>\n",
    "    <li>Graphics</li>\n",
    "    <li>Install Library</li>\n",
    "    <li>Dataset Source</li>\n",
    "</ul>\n",
    "    "
   ]
  },
  {
   "cell_type": "markdown",
   "metadata": {},
   "source": [
    "## Cara Menjalankan Python (Jupyter Notebook di AWS Cloud)"
   ]
  },
  {
   "cell_type": "markdown",
   "metadata": {},
   "source": [
    "Jupyter Notebook merupakan environment yang bisa digunakan untuk menjalankan/mengeksekusi program Python, tanpa melalui shell command. Tampilan interface Jupyter Notebook sangat pas untuk menggabungkan proses data collecting, data preparing, data processing, sampai merepresentasikan hasil data analytics melalui visualization (graphics).\n",
    "\n",
    "Untuk menjalankan Jupyter Notebook di AWS Cloud bisa melalui 2 cara:\n",
    "<ul>\n",
    "    <li>Melalui Amazon EC2 (sangat ribet)</li>\n",
    "    <li>Melalui Amazon SageMaker (sangat mudah - recommended)</li>\n",
    "</ul>\n",
    "\n",
    "Sebelum membuat instance Jupyter Notebook di SageMaker, perlu diperhatikan kebutuhan <a href=\"https://aws.amazon.com/sagemaker/pricing/instance-types/\">spesifikasi</a> server dan <a href=\"https://aws.amazon.com/sagemaker/pricing/\">costnya</a>."
   ]
  },
  {
   "cell_type": "markdown",
   "metadata": {},
   "source": [
    "## Penulisan Ekspresi di Python"
   ]
  },
  {
   "cell_type": "code",
   "execution_count": 1,
   "metadata": {},
   "outputs": [
    {
     "data": {
      "text/plain": [
       "5"
      ]
     },
     "execution_count": 1,
     "metadata": {},
     "output_type": "execute_result"
    }
   ],
   "source": [
    "2 + 3"
   ]
  },
  {
   "cell_type": "code",
   "execution_count": 6,
   "metadata": {},
   "outputs": [
    {
     "name": "stdout",
     "output_type": "stream",
     "text": [
      "6\n"
     ]
    }
   ],
   "source": [
    "a = 2 + 4\n",
    "print(a)"
   ]
  },
  {
   "cell_type": "code",
   "execution_count": 7,
   "metadata": {},
   "outputs": [
    {
     "name": "stdout",
     "output_type": "stream",
     "text": [
      "30\n"
     ]
    }
   ],
   "source": [
    "b = (a + 2) * (a - 3)\n",
    "print(a+b)"
   ]
  },
  {
   "cell_type": "code",
   "execution_count": 8,
   "metadata": {},
   "outputs": [
    {
     "name": "stdout",
     "output_type": "stream",
     "text": [
      "True\n"
     ]
    }
   ],
   "source": [
    "c = True or not False\n",
    "print(c)"
   ]
  },
  {
   "cell_type": "code",
   "execution_count": 17,
   "metadata": {},
   "outputs": [
    {
     "name": "stdout",
     "output_type": "stream",
     "text": [
      "True\n"
     ]
    }
   ],
   "source": [
    "d = c and (\"Hello\" > \"Helli\")\n",
    "print(d)"
   ]
  },
  {
   "cell_type": "markdown",
   "metadata": {},
   "source": [
    "## Function di Python"
   ]
  },
  {
   "cell_type": "code",
   "execution_count": 13,
   "metadata": {},
   "outputs": [
    {
     "name": "stdout",
     "output_type": "stream",
     "text": [
      "Hasil: 30\n"
     ]
    }
   ],
   "source": [
    "# non void\n",
    "def jumlah(a, b):\n",
    "    return a + b\n",
    "\n",
    "print(\"Hasil:\", jumlah(10, 20))"
   ]
  },
  {
   "cell_type": "code",
   "execution_count": 14,
   "metadata": {},
   "outputs": [
    {
     "name": "stdout",
     "output_type": "stream",
     "text": [
      "Hello World\n",
      "Hello Python\n"
     ]
    }
   ],
   "source": [
    "# void\n",
    "def hello(s = \"Hello World\"):\n",
    "    print(s)\n",
    "\n",
    "hello()\n",
    "hello(\"Hello Python\")"
   ]
  },
  {
   "cell_type": "code",
   "execution_count": 16,
   "metadata": {},
   "outputs": [
    {
     "name": "stdout",
     "output_type": "stream",
     "text": [
      "3\n",
      "2\n",
      "0\n"
     ]
    }
   ],
   "source": [
    "# multiple arguments\n",
    "def printLen(*data):\n",
    "    return len(data)\n",
    "\n",
    "print(printLen(5, 2, 3))\n",
    "print(printLen(2, 3))\n",
    "print(printLen())"
   ]
  },
  {
   "cell_type": "markdown",
   "metadata": {},
   "source": [
    "## Tipe Data Terstruktur di Python"
   ]
  },
  {
   "cell_type": "markdown",
   "metadata": {},
   "source": [
    "### List (Mirip Array)"
   ]
  },
  {
   "cell_type": "markdown",
   "metadata": {},
   "source": [
    "Index nya dimulai dari 0 (0, 1, 2, ...). Bersifat mutable."
   ]
  },
  {
   "cell_type": "code",
   "execution_count": 22,
   "metadata": {},
   "outputs": [
    {
     "name": "stdout",
     "output_type": "stream",
     "text": [
      "10\n",
      "[30, 32, 60]\n",
      "[10, 30, 32, 60, 67]\n",
      "[32, 60, 67]\n"
     ]
    }
   ],
   "source": [
    "# 1-dimensional list\n",
    "\n",
    "a = [10, 30, 32, 60, 67]\n",
    "\n",
    "# slicing\n",
    "print(a[0])\n",
    "print(a[1:4])\n",
    "print(a[:5])\n",
    "print(a[2:])"
   ]
  },
  {
   "cell_type": "code",
   "execution_count": 23,
   "metadata": {},
   "outputs": [
    {
     "name": "stdout",
     "output_type": "stream",
     "text": [
      "[100, 30, 32, 60, 67]\n"
     ]
    }
   ],
   "source": [
    "a[0] = 100\n",
    "print(a)"
   ]
  },
  {
   "cell_type": "code",
   "execution_count": 19,
   "metadata": {},
   "outputs": [
    {
     "name": "stdout",
     "output_type": "stream",
     "text": [
      "4\n",
      "[4, 5, 6]\n"
     ]
    }
   ],
   "source": [
    "# 2-dimensional list\n",
    "\n",
    "a = [[3, 1, 4], \n",
    "     [4, 5, 6], \n",
    "     [5, 1, 6]]\n",
    "\n",
    "# slicing\n",
    "print(a[0][2])\n",
    "print(a[1])"
   ]
  },
  {
   "cell_type": "markdown",
   "metadata": {},
   "source": [
    "### Dictionary (Mirip Associative Array)"
   ]
  },
  {
   "cell_type": "markdown",
   "metadata": {},
   "source": [
    "Index nya tidak dimulai 0, tapi bisa customized (Berupa pasangan key-value). Bersifat mutable."
   ]
  },
  {
   "cell_type": "code",
   "execution_count": 20,
   "metadata": {},
   "outputs": [
    {
     "name": "stdout",
     "output_type": "stream",
     "text": [
      "M0197065\n"
     ]
    }
   ],
   "source": [
    "mhs = {'nama': 'Rosihan Ari',\n",
    "       'nim': 'M0197065',\n",
    "       'alamat': 'Solo'}\n",
    "\n",
    "print(mhs['nim'])"
   ]
  },
  {
   "cell_type": "code",
   "execution_count": 24,
   "metadata": {},
   "outputs": [
    {
     "name": "stdout",
     "output_type": "stream",
     "text": [
      "{'nama': 'Dwi Amalia Fitriani', 'nim': 'M0197065', 'alamat': 'Solo'}\n"
     ]
    }
   ],
   "source": [
    "mhs['nama'] = 'Dwi Amalia Fitriani'\n",
    "print(mhs)"
   ]
  },
  {
   "cell_type": "markdown",
   "metadata": {},
   "source": [
    "### DataFrame"
   ]
  },
  {
   "cell_type": "markdown",
   "metadata": {},
   "source": [
    "<p>Representasi dari tipe data ini adalah mirip sebuah tabel (memiliki index baris dan kolom).</p>\n",
    "<p>Untuk membuat tipe data ini dibutuhkan library Panda.</p>\n",
    "<p>Biasanya tipe data ini dihasilkan dari import file dataset (csv, excel, json, mysql, dll)</p>"
   ]
  },
  {
   "cell_type": "code",
   "execution_count": 32,
   "metadata": {},
   "outputs": [
    {
     "name": "stdout",
     "output_type": "stream",
     "text": [
      "    Name  Age Address\n",
      "0    Tom   20       A\n",
      "1   nick   21       B\n",
      "2  krish   19       C\n",
      "3   jack   18       D\n"
     ]
    }
   ],
   "source": [
    "import pandas as pd\n",
    "\n",
    "data = {'Name': ['Tom', 'nick', 'krish', 'jack'],\n",
    "        'Age': [20, 21, 19, 18],\n",
    "        'Address': ['A', 'B', 'C', 'D']}\n",
    "\n",
    "df = pd.DataFrame(data)\n",
    "print(df)"
   ]
  },
  {
   "cell_type": "code",
   "execution_count": 33,
   "metadata": {},
   "outputs": [
    {
     "name": "stdout",
     "output_type": "stream",
     "text": [
      "0      Tom\n",
      "1     nick\n",
      "2    krish\n",
      "3     jack\n",
      "Name: Name, dtype: object\n"
     ]
    }
   ],
   "source": [
    "print(df['Name'])"
   ]
  },
  {
   "cell_type": "code",
   "execution_count": 34,
   "metadata": {},
   "outputs": [
    {
     "name": "stdout",
     "output_type": "stream",
     "text": [
      "Tom\n"
     ]
    }
   ],
   "source": [
    "print(df['Name'][0])"
   ]
  },
  {
   "cell_type": "code",
   "execution_count": 37,
   "metadata": {},
   "outputs": [
    {
     "name": "stdout",
     "output_type": "stream",
     "text": [
      "    Name  Age\n",
      "0    Tom   20\n",
      "1   nick   21\n",
      "2  krish   19\n",
      "3   jack   18\n"
     ]
    }
   ],
   "source": [
    "print(df[['Name', 'Age']])"
   ]
  },
  {
   "cell_type": "markdown",
   "metadata": {},
   "source": [
    "### Numpy Array"
   ]
  },
  {
   "cell_type": "markdown",
   "metadata": {},
   "source": [
    "Tipe data mirip list (mutable), tapi lebih ideal untuk komputasi numerik (aljabar linear). Untuk mendefinisikan suatu array, digunakan library Numpy -> Numpy Array"
   ]
  },
  {
   "cell_type": "code",
   "execution_count": 43,
   "metadata": {},
   "outputs": [
    {
     "name": "stdout",
     "output_type": "stream",
     "text": [
      "[10 24 21 45]\n"
     ]
    }
   ],
   "source": [
    "import numpy as np\n",
    "\n",
    "a = np.array([10, 24, 21, 45])\n",
    "print(a)"
   ]
  },
  {
   "cell_type": "code",
   "execution_count": 44,
   "metadata": {},
   "outputs": [
    {
     "name": "stdout",
     "output_type": "stream",
     "text": [
      "24\n",
      "[10 24 21]\n"
     ]
    }
   ],
   "source": [
    "print(a[1])\n",
    "print(a[:3])"
   ]
  },
  {
   "cell_type": "markdown",
   "metadata": {},
   "source": [
    "<b>Numpy Array Vs List</b>"
   ]
  },
  {
   "cell_type": "code",
   "execution_count": 41,
   "metadata": {},
   "outputs": [
    {
     "name": "stdout",
     "output_type": "stream",
     "text": [
      "[1, 2, 3, 4, 2, 3, 4, 5]\n"
     ]
    }
   ],
   "source": [
    "a = [1, 2, 3, 4]\n",
    "b = [2, 3, 4, 5]\n",
    "print(a + b)"
   ]
  },
  {
   "cell_type": "code",
   "execution_count": 42,
   "metadata": {},
   "outputs": [
    {
     "name": "stdout",
     "output_type": "stream",
     "text": [
      "[3 5 7 9]\n"
     ]
    }
   ],
   "source": [
    "import numpy as np\n",
    "\n",
    "a = np.array([1, 2, 3, 4])\n",
    "b = np.array([2, 3, 4, 5])\n",
    "print(a + b)"
   ]
  },
  {
   "cell_type": "markdown",
   "metadata": {},
   "source": [
    "## Struktur Kontrol di Python"
   ]
  },
  {
   "cell_type": "code",
   "execution_count": 45,
   "metadata": {},
   "outputs": [
    {
     "name": "stdout",
     "output_type": "stream",
     "text": [
      "D\n"
     ]
    }
   ],
   "source": [
    "# conditional IF\n",
    "\n",
    "nilai = 60\n",
    "\n",
    "if (nilai > 85):\n",
    "    print('A')\n",
    "elif (nilai > 70):\n",
    "    print('B')\n",
    "elif (nilai > 60):\n",
    "    print('C')\n",
    "else:\n",
    "    print('D')"
   ]
  },
  {
   "cell_type": "code",
   "execution_count": 46,
   "metadata": {},
   "outputs": [
    {
     "name": "stdout",
     "output_type": "stream",
     "text": [
      "Hello World\n",
      "Hello World\n",
      "Hello World\n",
      "Hello World\n",
      "Hello World\n"
     ]
    }
   ],
   "source": [
    "# looping FOR\n",
    "\n",
    "for i in range(5):\n",
    "    print('Hello World')"
   ]
  },
  {
   "cell_type": "code",
   "execution_count": 49,
   "metadata": {},
   "outputs": [
    {
     "name": "stdout",
     "output_type": "stream",
     "text": [
      "Hello\n",
      "Hello\n",
      "Hello\n",
      "Hello\n",
      "Hello\n"
     ]
    }
   ],
   "source": [
    "# looping WHILE\n",
    "\n",
    "a = 1\n",
    "while True:\n",
    "    print('Hello')\n",
    "    a += 1\n",
    "    if (a > 5):\n",
    "        break"
   ]
  },
  {
   "cell_type": "markdown",
   "metadata": {},
   "source": [
    "## Import/Export Data"
   ]
  },
  {
   "cell_type": "markdown",
   "metadata": {},
   "source": [
    "### Import CSV from Amazon S3"
   ]
  },
  {
   "cell_type": "code",
   "execution_count": 2,
   "metadata": {},
   "outputs": [
    {
     "data": {
      "text/plain": [
       "['rosihanari/HackerNewsPosts.csv', 'rosihanari/Sample - Superstore.xls']"
      ]
     },
     "execution_count": 2,
     "metadata": {},
     "output_type": "execute_result"
    }
   ],
   "source": [
    "import s3fs\n",
    "s3 = s3fs.S3FileSystem()\n",
    "\n",
    "# menampilkan list nama file dalam bucket\n",
    "s3.ls('rosihanari')"
   ]
  },
  {
   "cell_type": "code",
   "execution_count": 51,
   "metadata": {},
   "outputs": [
    {
     "data": {
      "text/html": [
       "<div>\n",
       "<style scoped>\n",
       "    .dataframe tbody tr th:only-of-type {\n",
       "        vertical-align: middle;\n",
       "    }\n",
       "\n",
       "    .dataframe tbody tr th {\n",
       "        vertical-align: top;\n",
       "    }\n",
       "\n",
       "    .dataframe thead th {\n",
       "        text-align: right;\n",
       "    }\n",
       "</style>\n",
       "<table border=\"1\" class=\"dataframe\">\n",
       "  <thead>\n",
       "    <tr style=\"text-align: right;\">\n",
       "      <th></th>\n",
       "      <th>id</th>\n",
       "      <th>title</th>\n",
       "      <th>url</th>\n",
       "      <th>num_points</th>\n",
       "      <th>num_comments</th>\n",
       "      <th>author</th>\n",
       "      <th>created_at</th>\n",
       "    </tr>\n",
       "  </thead>\n",
       "  <tbody>\n",
       "    <tr>\n",
       "      <th>0</th>\n",
       "      <td>12579008</td>\n",
       "      <td>You have two days to comment if you want stem ...</td>\n",
       "      <td>http://www.regulations.gov/document?D=FDA-2015...</td>\n",
       "      <td>1</td>\n",
       "      <td>0</td>\n",
       "      <td>altstar</td>\n",
       "      <td>9/26/2016 3:26</td>\n",
       "    </tr>\n",
       "    <tr>\n",
       "      <th>1</th>\n",
       "      <td>12579005</td>\n",
       "      <td>SQLAR  the SQLite Archiver</td>\n",
       "      <td>https://www.sqlite.org/sqlar/doc/trunk/README.md</td>\n",
       "      <td>1</td>\n",
       "      <td>0</td>\n",
       "      <td>blacksqr</td>\n",
       "      <td>9/26/2016 3:24</td>\n",
       "    </tr>\n",
       "    <tr>\n",
       "      <th>2</th>\n",
       "      <td>12578997</td>\n",
       "      <td>What if we just printed a flatscreen televisio...</td>\n",
       "      <td>https://medium.com/vanmoof/our-secrets-out-f21...</td>\n",
       "      <td>1</td>\n",
       "      <td>0</td>\n",
       "      <td>pavel_lishin</td>\n",
       "      <td>9/26/2016 3:19</td>\n",
       "    </tr>\n",
       "    <tr>\n",
       "      <th>3</th>\n",
       "      <td>12578989</td>\n",
       "      <td>algorithmic music</td>\n",
       "      <td>http://cacm.acm.org/magazines/2011/7/109891-al...</td>\n",
       "      <td>1</td>\n",
       "      <td>0</td>\n",
       "      <td>poindontcare</td>\n",
       "      <td>9/26/2016 3:16</td>\n",
       "    </tr>\n",
       "    <tr>\n",
       "      <th>4</th>\n",
       "      <td>12578979</td>\n",
       "      <td>How the Data Vault Enables the Next-Gen Data W...</td>\n",
       "      <td>https://www.talend.com/blog/2016/05/12/talend-...</td>\n",
       "      <td>1</td>\n",
       "      <td>0</td>\n",
       "      <td>markgainor1</td>\n",
       "      <td>9/26/2016 3:14</td>\n",
       "    </tr>\n",
       "  </tbody>\n",
       "</table>\n",
       "</div>"
      ],
      "text/plain": [
       "         id                                              title  \\\n",
       "0  12579008  You have two days to comment if you want stem ...   \n",
       "1  12579005                         SQLAR  the SQLite Archiver   \n",
       "2  12578997  What if we just printed a flatscreen televisio...   \n",
       "3  12578989                                  algorithmic music   \n",
       "4  12578979  How the Data Vault Enables the Next-Gen Data W...   \n",
       "\n",
       "                                                 url  num_points  \\\n",
       "0  http://www.regulations.gov/document?D=FDA-2015...           1   \n",
       "1   https://www.sqlite.org/sqlar/doc/trunk/README.md           1   \n",
       "2  https://medium.com/vanmoof/our-secrets-out-f21...           1   \n",
       "3  http://cacm.acm.org/magazines/2011/7/109891-al...           1   \n",
       "4  https://www.talend.com/blog/2016/05/12/talend-...           1   \n",
       "\n",
       "   num_comments        author      created_at  \n",
       "0             0       altstar  9/26/2016 3:26  \n",
       "1             0      blacksqr  9/26/2016 3:24  \n",
       "2             0  pavel_lishin  9/26/2016 3:19  \n",
       "3             0  poindontcare  9/26/2016 3:16  \n",
       "4             0   markgainor1  9/26/2016 3:14  "
      ]
     },
     "execution_count": 51,
     "metadata": {},
     "output_type": "execute_result"
    }
   ],
   "source": [
    "# import data file HackerNewsPosts.csv dari bucket\n",
    "\n",
    "import pandas as pd\n",
    "\n",
    "with s3.open('rosihanari/HackerNewsPosts.csv', 'rb') as f:\n",
    "    df = pd.read_csv(f)\n",
    "\n",
    "# tampilkan 5 baris data pertama    \n",
    "df[:5]"
   ]
  },
  {
   "cell_type": "markdown",
   "metadata": {},
   "source": [
    "### Import Excel from Amazon S3"
   ]
  },
  {
   "cell_type": "code",
   "execution_count": 53,
   "metadata": {},
   "outputs": [
    {
     "data": {
      "text/html": [
       "<div>\n",
       "<style scoped>\n",
       "    .dataframe tbody tr th:only-of-type {\n",
       "        vertical-align: middle;\n",
       "    }\n",
       "\n",
       "    .dataframe tbody tr th {\n",
       "        vertical-align: top;\n",
       "    }\n",
       "\n",
       "    .dataframe thead th {\n",
       "        text-align: right;\n",
       "    }\n",
       "</style>\n",
       "<table border=\"1\" class=\"dataframe\">\n",
       "  <thead>\n",
       "    <tr style=\"text-align: right;\">\n",
       "      <th></th>\n",
       "      <th>Row ID</th>\n",
       "      <th>Order ID</th>\n",
       "      <th>Order Date</th>\n",
       "      <th>Ship Date</th>\n",
       "      <th>Ship Mode</th>\n",
       "      <th>Customer ID</th>\n",
       "      <th>Customer Name</th>\n",
       "      <th>Segment</th>\n",
       "      <th>Country</th>\n",
       "      <th>City</th>\n",
       "      <th>...</th>\n",
       "      <th>Postal Code</th>\n",
       "      <th>Region</th>\n",
       "      <th>Product ID</th>\n",
       "      <th>Category</th>\n",
       "      <th>Sub-Category</th>\n",
       "      <th>Product Name</th>\n",
       "      <th>Sales</th>\n",
       "      <th>Quantity</th>\n",
       "      <th>Discount</th>\n",
       "      <th>Profit</th>\n",
       "    </tr>\n",
       "  </thead>\n",
       "  <tbody>\n",
       "    <tr>\n",
       "      <th>0</th>\n",
       "      <td>1</td>\n",
       "      <td>CA-2016-152156</td>\n",
       "      <td>2016-11-08</td>\n",
       "      <td>2016-11-11</td>\n",
       "      <td>Second Class</td>\n",
       "      <td>CG-12520</td>\n",
       "      <td>Claire Gute</td>\n",
       "      <td>Consumer</td>\n",
       "      <td>United States</td>\n",
       "      <td>Henderson</td>\n",
       "      <td>...</td>\n",
       "      <td>42420</td>\n",
       "      <td>South</td>\n",
       "      <td>FUR-BO-10001798</td>\n",
       "      <td>Furniture</td>\n",
       "      <td>Bookcases</td>\n",
       "      <td>Bush Somerset Collection Bookcase</td>\n",
       "      <td>261.9600</td>\n",
       "      <td>2</td>\n",
       "      <td>0.00</td>\n",
       "      <td>41.9136</td>\n",
       "    </tr>\n",
       "    <tr>\n",
       "      <th>1</th>\n",
       "      <td>2</td>\n",
       "      <td>CA-2016-152156</td>\n",
       "      <td>2016-11-08</td>\n",
       "      <td>2016-11-11</td>\n",
       "      <td>Second Class</td>\n",
       "      <td>CG-12520</td>\n",
       "      <td>Claire Gute</td>\n",
       "      <td>Consumer</td>\n",
       "      <td>United States</td>\n",
       "      <td>Henderson</td>\n",
       "      <td>...</td>\n",
       "      <td>42420</td>\n",
       "      <td>South</td>\n",
       "      <td>FUR-CH-10000454</td>\n",
       "      <td>Furniture</td>\n",
       "      <td>Chairs</td>\n",
       "      <td>Hon Deluxe Fabric Upholstered Stacking Chairs,...</td>\n",
       "      <td>731.9400</td>\n",
       "      <td>3</td>\n",
       "      <td>0.00</td>\n",
       "      <td>219.5820</td>\n",
       "    </tr>\n",
       "    <tr>\n",
       "      <th>2</th>\n",
       "      <td>3</td>\n",
       "      <td>CA-2016-138688</td>\n",
       "      <td>2016-06-12</td>\n",
       "      <td>2016-06-16</td>\n",
       "      <td>Second Class</td>\n",
       "      <td>DV-13045</td>\n",
       "      <td>Darrin Van Huff</td>\n",
       "      <td>Corporate</td>\n",
       "      <td>United States</td>\n",
       "      <td>Los Angeles</td>\n",
       "      <td>...</td>\n",
       "      <td>90036</td>\n",
       "      <td>West</td>\n",
       "      <td>OFF-LA-10000240</td>\n",
       "      <td>Office Supplies</td>\n",
       "      <td>Labels</td>\n",
       "      <td>Self-Adhesive Address Labels for Typewriters b...</td>\n",
       "      <td>14.6200</td>\n",
       "      <td>2</td>\n",
       "      <td>0.00</td>\n",
       "      <td>6.8714</td>\n",
       "    </tr>\n",
       "    <tr>\n",
       "      <th>3</th>\n",
       "      <td>4</td>\n",
       "      <td>US-2015-108966</td>\n",
       "      <td>2015-10-11</td>\n",
       "      <td>2015-10-18</td>\n",
       "      <td>Standard Class</td>\n",
       "      <td>SO-20335</td>\n",
       "      <td>Sean O'Donnell</td>\n",
       "      <td>Consumer</td>\n",
       "      <td>United States</td>\n",
       "      <td>Fort Lauderdale</td>\n",
       "      <td>...</td>\n",
       "      <td>33311</td>\n",
       "      <td>South</td>\n",
       "      <td>FUR-TA-10000577</td>\n",
       "      <td>Furniture</td>\n",
       "      <td>Tables</td>\n",
       "      <td>Bretford CR4500 Series Slim Rectangular Table</td>\n",
       "      <td>957.5775</td>\n",
       "      <td>5</td>\n",
       "      <td>0.45</td>\n",
       "      <td>-383.0310</td>\n",
       "    </tr>\n",
       "    <tr>\n",
       "      <th>4</th>\n",
       "      <td>5</td>\n",
       "      <td>US-2015-108966</td>\n",
       "      <td>2015-10-11</td>\n",
       "      <td>2015-10-18</td>\n",
       "      <td>Standard Class</td>\n",
       "      <td>SO-20335</td>\n",
       "      <td>Sean O'Donnell</td>\n",
       "      <td>Consumer</td>\n",
       "      <td>United States</td>\n",
       "      <td>Fort Lauderdale</td>\n",
       "      <td>...</td>\n",
       "      <td>33311</td>\n",
       "      <td>South</td>\n",
       "      <td>OFF-ST-10000760</td>\n",
       "      <td>Office Supplies</td>\n",
       "      <td>Storage</td>\n",
       "      <td>Eldon Fold 'N Roll Cart System</td>\n",
       "      <td>22.3680</td>\n",
       "      <td>2</td>\n",
       "      <td>0.20</td>\n",
       "      <td>2.5164</td>\n",
       "    </tr>\n",
       "  </tbody>\n",
       "</table>\n",
       "<p>5 rows × 21 columns</p>\n",
       "</div>"
      ],
      "text/plain": [
       "   Row ID        Order ID Order Date  Ship Date       Ship Mode Customer ID  \\\n",
       "0       1  CA-2016-152156 2016-11-08 2016-11-11    Second Class    CG-12520   \n",
       "1       2  CA-2016-152156 2016-11-08 2016-11-11    Second Class    CG-12520   \n",
       "2       3  CA-2016-138688 2016-06-12 2016-06-16    Second Class    DV-13045   \n",
       "3       4  US-2015-108966 2015-10-11 2015-10-18  Standard Class    SO-20335   \n",
       "4       5  US-2015-108966 2015-10-11 2015-10-18  Standard Class    SO-20335   \n",
       "\n",
       "     Customer Name    Segment        Country             City  ...  \\\n",
       "0      Claire Gute   Consumer  United States        Henderson  ...   \n",
       "1      Claire Gute   Consumer  United States        Henderson  ...   \n",
       "2  Darrin Van Huff  Corporate  United States      Los Angeles  ...   \n",
       "3   Sean O'Donnell   Consumer  United States  Fort Lauderdale  ...   \n",
       "4   Sean O'Donnell   Consumer  United States  Fort Lauderdale  ...   \n",
       "\n",
       "  Postal Code  Region       Product ID         Category Sub-Category  \\\n",
       "0       42420   South  FUR-BO-10001798        Furniture    Bookcases   \n",
       "1       42420   South  FUR-CH-10000454        Furniture       Chairs   \n",
       "2       90036    West  OFF-LA-10000240  Office Supplies       Labels   \n",
       "3       33311   South  FUR-TA-10000577        Furniture       Tables   \n",
       "4       33311   South  OFF-ST-10000760  Office Supplies      Storage   \n",
       "\n",
       "                                        Product Name     Sales  Quantity  \\\n",
       "0                  Bush Somerset Collection Bookcase  261.9600         2   \n",
       "1  Hon Deluxe Fabric Upholstered Stacking Chairs,...  731.9400         3   \n",
       "2  Self-Adhesive Address Labels for Typewriters b...   14.6200         2   \n",
       "3      Bretford CR4500 Series Slim Rectangular Table  957.5775         5   \n",
       "4                     Eldon Fold 'N Roll Cart System   22.3680         2   \n",
       "\n",
       "   Discount    Profit  \n",
       "0      0.00   41.9136  \n",
       "1      0.00  219.5820  \n",
       "2      0.00    6.8714  \n",
       "3      0.45 -383.0310  \n",
       "4      0.20    2.5164  \n",
       "\n",
       "[5 rows x 21 columns]"
      ]
     },
     "execution_count": 53,
     "metadata": {},
     "output_type": "execute_result"
    }
   ],
   "source": [
    "import pandas as pd\n",
    "from pandas import ExcelFile\n",
    "\n",
    "with s3.open('rosihanari/Sample - Superstore.xls', 'rb') as f:\n",
    "    df = pd.read_excel(f)\n",
    "\n",
    "# tampilkan 5 baris data pertama    \n",
    "df[:5]"
   ]
  },
  {
   "cell_type": "markdown",
   "metadata": {},
   "source": [
    "### Import JSON from Internet"
   ]
  },
  {
   "cell_type": "code",
   "execution_count": 62,
   "metadata": {},
   "outputs": [],
   "source": [
    "import json\n",
    "from urllib.request import urlopen\n",
    "\n",
    "# membaca data json dari URL\n",
    "response = urlopen('https://jsonplaceholder.typicode.com/users')\n",
    "data = response.read()\n",
    "\n",
    "jsonData = json.loads(data)"
   ]
  },
  {
   "cell_type": "markdown",
   "metadata": {},
   "source": [
    "### Export DataFrame to CSV - Stored in Amazon S3"
   ]
  },
  {
   "cell_type": "code",
   "execution_count": 79,
   "metadata": {},
   "outputs": [],
   "source": [
    "import pandas as pd\n",
    "\n",
    "# data format dataframe yg akan diexport ke csv\n",
    "data = {'Name': ['Tom', 'nick', 'krish', 'jack'],\n",
    "        'Age': [20, 21, 19, 18],\n",
    "        'Address': ['A', 'B', 'C', 'D']}\n",
    "\n",
    "df = pd.DataFrame(data)\n",
    "\n",
    "# export data ke csv stlh diencode ke byte\n",
    "bytes_to_write = df.to_csv(index = None, header=True).encode()\n",
    "\n",
    "# letakkan file csv ke bucket S3\n",
    "with s3.open('rosihanari/data.csv', 'wb') as f:\n",
    "    f.write(bytes_to_write)"
   ]
  },
  {
   "cell_type": "markdown",
   "metadata": {},
   "source": [
    "## Creating Graphics with Matplotlib - PyPlot"
   ]
  },
  {
   "cell_type": "code",
   "execution_count": 86,
   "metadata": {},
   "outputs": [
    {
     "data": {
      "image/png": "[encoded data removed]",
      "text/plain": [
       "<Figure size 432x288 with 1 Axes>"
      ]
     },
     "metadata": {},
     "output_type": "display_data"
    }
   ],
   "source": [
    "import matplotlib.pyplot as plt\n",
    "\n",
    "plt.plot([1, 2, 3, 4])\n",
    "plt.ylabel('some numbers')\n",
    "plt.show()"
   ]
  },
  {
   "cell_type": "code",
   "execution_count": 89,
   "metadata": {},
   "outputs": [
    {
     "data": {
      "image/png": "[encoded data removed]",
      "text/plain": [
       "<Figure size 432x288 with 1 Axes>"
      ]
     },
     "metadata": {},
     "output_type": "display_data"
    }
   ],
   "source": [
    "plt.plot([1, 3, 7, 9], [10, -1, 15, 20])\n",
    "plt.ylabel('y-values')\n",
    "plt.xlabel('x-values')\n",
    "plt.show()"
   ]
  },
  {
   "cell_type": "code",
   "execution_count": 91,
   "metadata": {},
   "outputs": [
    {
     "data": {
      "image/png": "[encoded data removed]",
      "text/plain": [
       "<Figure size 432x288 with 1 Axes>"
      ]
     },
     "metadata": {},
     "output_type": "display_data"
    }
   ],
   "source": [
    "plt.plot([1, 2, 3, 4], [1, 4, 9, 16], 'ro')\n",
    "plt.ylabel('y-values')\n",
    "plt.xlabel('x-values')\n",
    "plt.axis([0, 6, 0, 20])\n",
    "plt.show()"
   ]
  },
  {
   "cell_type": "code",
   "execution_count": 92,
   "metadata": {},
   "outputs": [
    {
     "data": {
      "image/png": "[encoded data removed]",
      "text/plain": [
       "<Figure size 432x288 with 1 Axes>"
      ]
     },
     "metadata": {},
     "output_type": "display_data"
    }
   ],
   "source": [
    "import numpy as np\n",
    "\n",
    "# membuat sampel data x 0-5 lebar subinterval 0.2\n",
    "x = np.arange(0., 5., 0.2)\n",
    "\n",
    "# red dashes, blue squares and green triangles\n",
    "plt.plot(x, x, 'r--', x, x**2, 'bs', x, x**3, 'g^')\n",
    "plt.show()"
   ]
  },
  {
   "cell_type": "code",
   "execution_count": 93,
   "metadata": {},
   "outputs": [
    {
     "data": {
      "image/png": "[encoded data removed]",
      "text/plain": [
       "<Figure size 432x288 with 1 Axes>"
      ]
     },
     "metadata": {},
     "output_type": "display_data"
    }
   ],
   "source": [
    "names = ['group_a', 'group_b', 'group_c']\n",
    "values = [1, 10, 100]\n",
    "\n",
    "plt.bar(names, values)\n",
    "plt.show()"
   ]
  },
  {
   "cell_type": "markdown",
   "metadata": {},
   "source": [
    "## Cara Install Python Library"
   ]
  },
  {
   "cell_type": "code",
   "execution_count": 9,
   "metadata": {},
   "outputs": [
    {
     "name": "stdout",
     "output_type": "stream",
     "text": [
      "Collecting tweepy\n",
      "  Downloading https://files.pythonhosted.org/packages/d5/5f/daac4b4e9b30d7d2a6fdd16a880ff79f27918fe388e4dfc1983dec3a9876/tweepy-3.7.0-py2.py3-none-any.whl\n",
      "Requirement already satisfied: PySocks>=1.5.7 in /home/ec2-user/anaconda3/envs/python3/lib/python3.6/site-packages (from tweepy) (1.6.8)\n",
      "Collecting requests-oauthlib>=0.7.0 (from tweepy)\n",
      "  Downloading https://files.pythonhosted.org/packages/c2/e2/9fd03d55ffb70fe51f587f20bcf407a6927eb121de86928b34d162f0b1ac/requests_oauthlib-1.2.0-py2.py3-none-any.whl\n",
      "Requirement already satisfied: six>=1.10.0 in /home/ec2-user/anaconda3/envs/python3/lib/python3.6/site-packages (from tweepy) (1.11.0)\n",
      "Requirement already satisfied: requests>=2.11.1 in /home/ec2-user/anaconda3/envs/python3/lib/python3.6/site-packages (from tweepy) (2.20.0)\n",
      "Collecting oauthlib>=3.0.0 (from requests-oauthlib>=0.7.0->tweepy)\n",
      "\u001b[?25l  Downloading https://files.pythonhosted.org/packages/58/5e/289e98ff5ad1a321945803000c5f10f5f90eba346d13139ecdd075cfbe17/oauthlib-3.0.2-py2.py3-none-any.whl (143kB)\n",
      "\u001b[K    100% |████████████████████████████████| 153kB 34.2MB/s ta 0:00:01\n",
      "\u001b[?25hRequirement already satisfied: certifi>=2017.4.17 in /home/ec2-user/anaconda3/envs/python3/lib/python3.6/site-packages (from requests>=2.11.1->tweepy) (2019.3.9)\n",
      "Requirement already satisfied: chardet<3.1.0,>=3.0.2 in /home/ec2-user/anaconda3/envs/python3/lib/python3.6/site-packages (from requests>=2.11.1->tweepy) (3.0.4)\n",
      "Requirement already satisfied: idna<2.8,>=2.5 in /home/ec2-user/anaconda3/envs/python3/lib/python3.6/site-packages (from requests>=2.11.1->tweepy) (2.6)\n",
      "Requirement already satisfied: urllib3<1.25,>=1.21.1 in /home/ec2-user/anaconda3/envs/python3/lib/python3.6/site-packages (from requests>=2.11.1->tweepy) (1.23)\n",
      "Installing collected packages: oauthlib, requests-oauthlib, tweepy\n",
      "Successfully installed oauthlib-3.0.2 requests-oauthlib-1.2.0 tweepy-3.7.0\n",
      "\u001b[33mYou are using pip version 10.0.1, however version 19.1.1 is available.\n",
      "You should consider upgrading via the 'pip install --upgrade pip' command.\u001b[0m\n"
     ]
    }
   ],
   "source": [
    "# install library tweepy (crawling tweets)\n",
    "\n",
    "import sys\n",
    "!{sys.executable} -m pip install tweepy"
   ]
  },
  {
   "cell_type": "code",
   "execution_count": 11,
   "metadata": {},
   "outputs": [],
   "source": [
    "import tweepy\n",
    "\n",
    "# setting API Twitter key & token\n",
    "consumer_key = \"...\"\n",
    "consumer_secret = \"...\"\n",
    "access_token = \"...\"\n",
    "access_token_secret = \"...\""
   ]
  },
  {
   "cell_type": "code",
   "execution_count": 12,
   "metadata": {},
   "outputs": [],
   "source": [
    "# Creating the authentication object\n",
    "auth = tweepy.OAuthHandler(consumer_key, consumer_secret)\n",
    "# Setting your access token and secret\n",
    "auth.set_access_token(access_token, access_token_secret)\n",
    "# Creating the API object while passing in auth information\n",
    "api = tweepy.API(auth) "
   ]
  },
  {
   "cell_type": "code",
   "execution_count": 13,
   "metadata": {},
   "outputs": [
    {
     "name": "stdout",
     "output_type": "stream",
     "text": [
      "2019-07-04 23:49:20 RT @DeepLearn007: There's No #AI without IA {Info Architecture}\n",
      "@JimMarous @SpirosMargaris @Xbond49 @psb_dc @TheRudinGroup @TopCyberNews @i…\n",
      "2019-07-04 23:49:05 RT @AzureCosmosDB: Based on popular ask, we've put all the *Cosmic Notes* in one location - learn more about #CosmosDB, one Cosmic Note at…\n",
      "2019-07-04 23:49:00 RT @DeepLearn007: There's No #AI without IA {Info Architecture}\n",
      "@JimMarous @SpirosMargaris @Xbond49 @psb_dc @TheRudinGroup @TopCyberNews @i…\n",
      "2019-07-04 23:48:46 RT @thekaushalsoni: 🔌What are the 7 Key #Marketing Concepts In The #Digital Era? [ #DigitalMarketing ] ◆ Follow: https://t.co/R9YJ3qlrBQ ◆…\n",
      "2019-07-04 23:48:31 RT @wiwer77: #Facebook outage gave a glimpse at how its AI analyses images\n",
      "https://t.co/bnsZdf4Ht3\n",
      "#AI #IA #BigData #BlockChain #Robots #St…\n",
      "2019-07-04 23:48:30 RT @wiwer77: Artificial Intelligence is going the Wrong way. Why? https://t.co/wkQap6y0jN\n",
      "#AI #IA #BigData #BlockChain #Robots #Startup #Py…\n",
      "2019-07-04 23:48:30 RT @KirkDBorne: Artificial intelligence could be a near $450 billion opportunity in #Banking — here are the strategies that winning banks a…\n",
      "2019-07-04 23:48:18 RT @IrenaTadic1: Using artificial intelligence to better predict severe weather\n",
      "\n",
      "#ArtificialIntelligence #DataScience #MachineLearning #Big…\n",
      "2019-07-04 23:48:14 RT @KeithKeller: \"TOP 100 INFLUENCERS\n",
      "IN AI &amp; BIG DATA\" \n",
      "\n",
      "https://t.co/O17LcYlCQW            \n",
      "((Cool eMag))\n",
      "\n",
      "Featuring:\n",
      "\n",
      "@AntGrasso \n",
      "@Berna…\n",
      "2019-07-04 23:48:04 Artificial Intelligence is going the Wrong way. Why? https://t.co/wkQap6y0jN\n",
      "#AI #IA #BigData #BlockChain #Robots… https://t.co/sUabqzEinL\n"
     ]
    }
   ],
   "source": [
    "# crawl 10 data twits keyword '#bigdata' dari 01/05/2018 \n",
    "for tweet in tweepy.Cursor(api.search,q=\"#bigdata\",\n",
    "                           lang=\"en\",\n",
    "                           since=\"2018-05-01\").items(10):\n",
    "    print(tweet.created_at, tweet.text)"
   ]
  },
  {
   "cell_type": "markdown",
   "metadata": {},
   "source": [
    "### Sumber Dataset (untuk projects mhs)"
   ]
  },
  {
   "cell_type": "markdown",
   "metadata": {},
   "source": [
    "* <a href=\"https://www.kaggle.com/datasets\">Kaggle</a>\n",
    "* <a href=\"https://data.cityofnewyork.us\">New York City Open Data</a>"
   ]
  }
 ],
 "metadata": {
  "kernelspec": {
   "display_name": "Python 3",
   "language": "python",
   "name": "python3"
  },
  "language_info": {
   "codemirror_mode": {
    "name": "ipython",
    "version": 3
   },
   "file_extension": ".py",
   "mimetype": "text/x-python",
   "name": "python",
   "nbconvert_exporter": "python",
   "pygments_lexer": "ipython3",
   "version": "3.7.0"
  }
 },
 "nbformat": 4,
 "nbformat_minor": 2
}
